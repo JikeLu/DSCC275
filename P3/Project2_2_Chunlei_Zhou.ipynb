{
 "cells": [
  {
   "cell_type": "markdown",
   "metadata": {},
   "source": [
    "# DSC 275/475: Time Series Analysis and Forecasting (Fall 2019) \n",
    "## Project 2.2 – Sequence Classification with Recurrent Neural Networks \n",
    "### Chunlei Zhou"
   ]
  },
  {
   "cell_type": "markdown",
   "metadata": {},
   "source": [
    "#### Develop Helper Functions"
   ]
  },
  {
   "cell_type": "code",
   "execution_count": 1,
   "metadata": {},
   "outputs": [],
   "source": [
    "from __future__ import unicode_literals, print_function, division\n",
    "from io import open\n",
    "import glob\n",
    "import os\n",
    "import unicodedata\n",
    "import string\n",
    "import torch\n",
    "import torch.nn as nn\n",
    "import random\n",
    "from torch.nn.utils.rnn import pad_packed_sequence\n",
    "import numpy as np\n",
    "from sklearn.model_selection import KFold\n",
    "from sklearn.model_selection import StratifiedKFold\n",
    "from torch import LongTensor\n",
    "from torch.nn import Embedding\n",
    "from sklearn.metrics import accuracy_score\n",
    "from torch.autograd import Variable"
   ]
  },
  {
   "cell_type": "code",
   "execution_count": 2,
   "metadata": {},
   "outputs": [],
   "source": [
    "class RNN(nn.Module):\n",
    "    def __init__(self, input_size, hidden_size, output_size):\n",
    "        super(RNN, self).__init__()\n",
    "\n",
    "        self.hidden_size = hidden_size\n",
    "        self.i2h = nn.Linear(input_size + hidden_size, hidden_size)\n",
    "        self.i2o = nn.Linear(input_size + hidden_size, output_size)\n",
    "        self.softmax = nn.LogSoftmax(dim=1)\n",
    "\n",
    "    def forward(self, input, hidden):\n",
    "        combined = torch.cat((input, hidden), 1)\n",
    "        hidden = self.i2h(combined)\n",
    "        output = self.i2o(combined)\n",
    "        output = self.softmax(output)\n",
    "        return output, hidden\n",
    "\n",
    "    def initHidden(self):\n",
    "        return torch.zeros(1, self.hidden_size)"
   ]
  },
  {
   "cell_type": "code",
   "execution_count": 3,
   "metadata": {},
   "outputs": [],
   "source": [
    "def findFiles(path):\n",
    "    return glob.glob(path)\n",
    "\n",
    "all_letters = string.ascii_letters + \" .,;'\"\n",
    "n_letters = len(all_letters)\n",
    "\n",
    "# Turn a Unicode string to plain ASCII, thanks to https://stackoverflow.com/a/518232/2809427\n",
    "def unicodeToAscii(s):\n",
    "    return ''.join(\n",
    "        c for c in unicodedata.normalize('NFD', s)\n",
    "        if unicodedata.category(c) != 'Mn'\n",
    "        and c in all_letters)\n",
    "\n",
    "# Build the category_lines dictionary, a list of names per language\n",
    "category_lines = {}\n",
    "all_categories = []\n",
    "\n",
    "# Read a file and split into lines\n",
    "def readLines(filename):\n",
    "    lines = open(filename, encoding='utf-8').read().strip().split('\\n')\n",
    "    return [unicodeToAscii(line) for line in lines]\n",
    "\n",
    "for filename in findFiles('names/*.txt'):\n",
    "    category = os.path.splitext(os.path.basename(filename))[0]\n",
    "    all_categories.append(category)\n",
    "    lines = readLines(filename)\n",
    "    category_lines[category] = lines\n",
    "\n",
    "n_categories = len(all_categories)\n",
    "\n",
    "def findName(dict, name):\n",
    "    keys = dict.keys()\n",
    "    for key in keys:\n",
    "        if name in dict[key]:\n",
    "            return key\n",
    "    return ''\n",
    "\n",
    "# Find letter index from all_letters, e.g. \"a\" = 0\n",
    "def letterToIndex(letter):\n",
    "    return all_letters.find(letter)\n",
    "\n",
    "# Turn a line into a <line_length x 1 x n_letters>, or an array of one-hot letter vectors\n",
    "def lineToTensor(line):\n",
    "    tensor = torch.zeros(len(line), 1, n_letters)\n",
    "    for li, letter in enumerate(line):\n",
    "        tensor[li][0][letterToIndex(letter)] = 1\n",
    "    return tensor\n",
    "\n",
    "# Interpret output\n",
    "def categoryFromOutput(output):\n",
    "    top_n, top_i = output.topk(1)\n",
    "    category_i = top_i[0].item()\n",
    "    return all_categories[category_i], category_i\n",
    "\n",
    "# Get a training example (a name and its language):\n",
    "def randomChoice(l):\n",
    "    return l[random.randint(0, len(l) - 1)]\n",
    "\n",
    "def randomTrainingExample():\n",
    "    category = randomChoice(all_categories)\n",
    "    line = randomChoice(category_lines[category])\n",
    "    category_tensor = torch.tensor([all_categories.index(category)], dtype=torch.long)\n",
    "    line_tensor = lineToTensor(line)\n",
    "    return category, line, category_tensor, line_tensor\n",
    "\n",
    "def train(category_tensor, line_tensor):\n",
    "    hidden = rnn.initHidden()\n",
    "    rnn.zero_grad()\n",
    "    for i in range(line_tensor.size()[0]):\n",
    "        output, hidden = rnn(line_tensor[i], hidden)\n",
    "    loss = criterion(output, category_tensor)\n",
    "    loss.backward()\n",
    "    # Add parameters' gradients to their values, multiplied by learning rate\n",
    "    for p in rnn.parameters():\n",
    "        p.data.add_(-learning_rate, p.grad.data)\n",
    "    return output, loss.item()\n",
    "\n",
    "# Just return an output given a line\n",
    "def evaluate(line_tensor):\n",
    "    hidden = rnn.initHidden()\n",
    "    for i in range(line_tensor.size()[0]):\n",
    "        output, hidden = rnn(line_tensor[i], hidden)\n",
    "    return output\n",
    "\n",
    "# Construct a Data Frame\n",
    "def data_frame(category_lines):\n",
    "    data_frame = [[],[]]\n",
    "    for key in all_categories:\n",
    "        for value in category_lines[key]:\n",
    "            data_frame[0].append(value)\n",
    "            data_frame[1].append(key)\n",
    "    return data_frame"
   ]
  },
  {
   "cell_type": "markdown",
   "metadata": {},
   "source": [
    "# 1. Systematic processing of data"
   ]
  },
  {
   "cell_type": "code",
   "execution_count": 4,
   "metadata": {},
   "outputs": [],
   "source": [
    "criterion = nn.NLLLoss()\n",
    "learning_rate = 0.005\n",
    "n_iters = 100000\n",
    "n_hiddens = [32, 64, 128]"
   ]
  },
  {
   "cell_type": "code",
   "execution_count": 5,
   "metadata": {},
   "outputs": [],
   "source": [
    "DF = data_frame(category_lines)\n",
    "total_samples = len(DF[0])\n",
    "randomize_order = np.arange(0, total_samples)"
   ]
  },
  {
   "cell_type": "markdown",
   "metadata": {},
   "source": [
    "## 1.1 Effect of hidden state length: "
   ]
  },
  {
   "cell_type": "code",
   "execution_count": 6,
   "metadata": {},
   "outputs": [
    {
     "name": "stdout",
     "output_type": "stream",
     "text": [
      "======= 1.1 Accuracy Report =======\n"
     ]
    },
    {
     "name": "stderr",
     "output_type": "stream",
     "text": [
      "C:\\Users\\JkL\\AppData\\Local\\Temp\\ipykernel_24824\\447425797.py:75: UserWarning: This overload of add_ is deprecated:\n",
      "\tadd_(Number alpha, Tensor other)\n",
      "Consider using one of the following signatures instead:\n",
      "\tadd_(Tensor other, *, Number alpha) (Triggered internally at  C:\\cb\\pytorch_1000000000000\\work\\torch\\csrc\\utils\\python_arg_parser.cpp:1174.)\n",
      "  p.data.add_(-learning_rate, p.grad.data)\n"
     ]
    },
    {
     "name": "stdout",
     "output_type": "stream",
     "text": [
      "n_hidden = 32: Accuracy is 0.546378\n"
     ]
    },
    {
     "ename": "KeyboardInterrupt",
     "evalue": "",
     "output_type": "error",
     "traceback": [
      "\u001b[1;31m---------------------------------------------------------------------------\u001b[0m",
      "\u001b[1;31mKeyboardInterrupt\u001b[0m                         Traceback (most recent call last)",
      "Input \u001b[1;32mIn [6]\u001b[0m, in \u001b[0;36m<cell line: 2>\u001b[1;34m()\u001b[0m\n\u001b[0;32m      6\u001b[0m \u001b[38;5;28;01mfor\u001b[39;00m \u001b[38;5;28miter\u001b[39m \u001b[38;5;129;01min\u001b[39;00m \u001b[38;5;28mrange\u001b[39m(\u001b[38;5;241m1\u001b[39m, n_iters \u001b[38;5;241m+\u001b[39m \u001b[38;5;241m1\u001b[39m):\n\u001b[0;32m      7\u001b[0m     category, line, category_tensor, line_tensor \u001b[38;5;241m=\u001b[39m randomTrainingExample()\n\u001b[1;32m----> 8\u001b[0m     output, loss \u001b[38;5;241m=\u001b[39m \u001b[43mtrain\u001b[49m\u001b[43m(\u001b[49m\u001b[43mcategory_tensor\u001b[49m\u001b[43m,\u001b[49m\u001b[43m \u001b[49m\u001b[43mline_tensor\u001b[49m\u001b[43m)\u001b[49m\n\u001b[0;32m      9\u001b[0m     current_loss \u001b[38;5;241m+\u001b[39m\u001b[38;5;241m=\u001b[39m loss\n\u001b[0;32m     10\u001b[0m \u001b[38;5;124;03m'''confusion = torch.zeros(n_categories, n_categories)\u001b[39;00m\n\u001b[0;32m     11\u001b[0m \u001b[38;5;124;03mn_confusion = 20000\u001b[39;00m\n\u001b[0;32m     12\u001b[0m \u001b[38;5;124;03mfor i in range(n_confusion):\u001b[39;00m\n\u001b[1;32m   (...)\u001b[0m\n\u001b[0;32m     18\u001b[0m \u001b[38;5;124;03maccuracy = sum(confusion.diag()) / sum(sum(confusion))\u001b[39;00m\n\u001b[0;32m     19\u001b[0m \u001b[38;5;124;03mprint('n_hidden=', str(n_hidden)+':', 'Accuracy is %f' % accuracy.item())'''\u001b[39;00m\n",
      "Input \u001b[1;32mIn [3]\u001b[0m, in \u001b[0;36mtrain\u001b[1;34m(category_tensor, line_tensor)\u001b[0m\n\u001b[0;32m     70\u001b[0m     output, hidden \u001b[38;5;241m=\u001b[39m rnn(line_tensor[i], hidden)\n\u001b[0;32m     71\u001b[0m loss \u001b[38;5;241m=\u001b[39m criterion(output, category_tensor)\n\u001b[1;32m---> 72\u001b[0m \u001b[43mloss\u001b[49m\u001b[38;5;241;43m.\u001b[39;49m\u001b[43mbackward\u001b[49m\u001b[43m(\u001b[49m\u001b[43m)\u001b[49m\n\u001b[0;32m     73\u001b[0m \u001b[38;5;66;03m# Add parameters' gradients to their values, multiplied by learning rate\u001b[39;00m\n\u001b[0;32m     74\u001b[0m \u001b[38;5;28;01mfor\u001b[39;00m p \u001b[38;5;129;01min\u001b[39;00m rnn\u001b[38;5;241m.\u001b[39mparameters():\n",
      "File \u001b[1;32mE:\\Anaconda\\lib\\site-packages\\torch\\_tensor.py:396\u001b[0m, in \u001b[0;36mTensor.backward\u001b[1;34m(self, gradient, retain_graph, create_graph, inputs)\u001b[0m\n\u001b[0;32m    387\u001b[0m \u001b[38;5;28;01mif\u001b[39;00m has_torch_function_unary(\u001b[38;5;28mself\u001b[39m):\n\u001b[0;32m    388\u001b[0m     \u001b[38;5;28;01mreturn\u001b[39;00m handle_torch_function(\n\u001b[0;32m    389\u001b[0m         Tensor\u001b[38;5;241m.\u001b[39mbackward,\n\u001b[0;32m    390\u001b[0m         (\u001b[38;5;28mself\u001b[39m,),\n\u001b[1;32m   (...)\u001b[0m\n\u001b[0;32m    394\u001b[0m         create_graph\u001b[38;5;241m=\u001b[39mcreate_graph,\n\u001b[0;32m    395\u001b[0m         inputs\u001b[38;5;241m=\u001b[39minputs)\n\u001b[1;32m--> 396\u001b[0m \u001b[43mtorch\u001b[49m\u001b[38;5;241;43m.\u001b[39;49m\u001b[43mautograd\u001b[49m\u001b[38;5;241;43m.\u001b[39;49m\u001b[43mbackward\u001b[49m\u001b[43m(\u001b[49m\u001b[38;5;28;43mself\u001b[39;49m\u001b[43m,\u001b[49m\u001b[43m \u001b[49m\u001b[43mgradient\u001b[49m\u001b[43m,\u001b[49m\u001b[43m \u001b[49m\u001b[43mretain_graph\u001b[49m\u001b[43m,\u001b[49m\u001b[43m \u001b[49m\u001b[43mcreate_graph\u001b[49m\u001b[43m,\u001b[49m\u001b[43m \u001b[49m\u001b[43minputs\u001b[49m\u001b[38;5;241;43m=\u001b[39;49m\u001b[43minputs\u001b[49m\u001b[43m)\u001b[49m\n",
      "File \u001b[1;32mE:\\Anaconda\\lib\\site-packages\\torch\\autograd\\__init__.py:173\u001b[0m, in \u001b[0;36mbackward\u001b[1;34m(tensors, grad_tensors, retain_graph, create_graph, grad_variables, inputs)\u001b[0m\n\u001b[0;32m    168\u001b[0m     retain_graph \u001b[38;5;241m=\u001b[39m create_graph\n\u001b[0;32m    170\u001b[0m \u001b[38;5;66;03m# The reason we repeat same the comment below is that\u001b[39;00m\n\u001b[0;32m    171\u001b[0m \u001b[38;5;66;03m# some Python versions print out the first line of a multi-line function\u001b[39;00m\n\u001b[0;32m    172\u001b[0m \u001b[38;5;66;03m# calls in the traceback and some print out the last line\u001b[39;00m\n\u001b[1;32m--> 173\u001b[0m \u001b[43mVariable\u001b[49m\u001b[38;5;241;43m.\u001b[39;49m\u001b[43m_execution_engine\u001b[49m\u001b[38;5;241;43m.\u001b[39;49m\u001b[43mrun_backward\u001b[49m\u001b[43m(\u001b[49m\u001b[43m  \u001b[49m\u001b[38;5;66;43;03m# Calls into the C++ engine to run the backward pass\u001b[39;49;00m\n\u001b[0;32m    174\u001b[0m \u001b[43m    \u001b[49m\u001b[43mtensors\u001b[49m\u001b[43m,\u001b[49m\u001b[43m \u001b[49m\u001b[43mgrad_tensors_\u001b[49m\u001b[43m,\u001b[49m\u001b[43m \u001b[49m\u001b[43mretain_graph\u001b[49m\u001b[43m,\u001b[49m\u001b[43m \u001b[49m\u001b[43mcreate_graph\u001b[49m\u001b[43m,\u001b[49m\u001b[43m \u001b[49m\u001b[43minputs\u001b[49m\u001b[43m,\u001b[49m\n\u001b[0;32m    175\u001b[0m \u001b[43m    \u001b[49m\u001b[43mallow_unreachable\u001b[49m\u001b[38;5;241;43m=\u001b[39;49m\u001b[38;5;28;43;01mTrue\u001b[39;49;00m\u001b[43m,\u001b[49m\u001b[43m \u001b[49m\u001b[43maccumulate_grad\u001b[49m\u001b[38;5;241;43m=\u001b[39;49m\u001b[38;5;28;43;01mTrue\u001b[39;49;00m\u001b[43m)\u001b[49m\n",
      "\u001b[1;31mKeyboardInterrupt\u001b[0m: "
     ]
    }
   ],
   "source": [
    "print('======= 1.1 Accuracy Report =======')\n",
    "for n_hidden in n_hiddens:\n",
    "    rnn = RNN(n_letters, n_hidden, n_categories)\n",
    "    current_loss = 0\n",
    "    all_losses = []\n",
    "    for iter in range(1, n_iters + 1):\n",
    "        category, line, category_tensor, line_tensor = randomTrainingExample()\n",
    "        output, loss = train(category_tensor, line_tensor)\n",
    "        current_loss += loss\n",
    "    '''confusion = torch.zeros(n_categories, n_categories)\n",
    "    n_confusion = 20000\n",
    "    for i in range(n_confusion):\n",
    "        category, line, category_tensor, line_tensor = randomTrainingExample()\n",
    "        output = evaluate(line_tensor)\n",
    "        guess, guess_i = categoryFromOutput(output)\n",
    "        category_i = all_categories.index(category)\n",
    "        confusion[category_i][guess_i] += 1\n",
    "    accuracy = sum(confusion.diag()) / sum(sum(confusion))\n",
    "    print('n_hidden=', str(n_hidden)+':', 'Accuracy is %f' % accuracy.item())'''\n",
    "    confusion = torch.zeros(n_categories, n_categories)\n",
    "    n_confusion = total_samples\n",
    "    for i in range(n_confusion):\n",
    "        category = DF[1][i]\n",
    "        line = DF[0][i]\n",
    "        category_tensor = torch.tensor([all_categories.index(category)], dtype=torch.long)\n",
    "        line_tensor = lineToTensor(line)\n",
    "        output = evaluate(line_tensor)\n",
    "        guess, guess_i = categoryFromOutput(output)\n",
    "        category_i = all_categories.index(category)\n",
    "        confusion[category_i][guess_i] += 1\n",
    "    accuracy = sum(confusion.diag()) / sum(sum(confusion))\n",
    "    print('n_hidden =', str(n_hidden)+':', 'Accuracy is %f' % accuracy.item())"
   ]
  },
  {
   "cell_type": "markdown",
   "metadata": {},
   "source": [
    "## 1.2\tEffect of systematic training:"
   ]
  },
  {
   "cell_type": "code",
   "execution_count": null,
   "metadata": {},
   "outputs": [],
   "source": [
    "n_epoch = 5\n",
    "print('======= 1.2 Accuracy Report =======')\n",
    "for n_hidden in n_hiddens:\n",
    "    rnn = RNN(n_letters, n_hidden, n_categories)\n",
    "    current_loss = 0\n",
    "    all_losses = []\n",
    "    for epoch in range(n_epoch):\n",
    "        np.random.shuffle(randomize_order)\n",
    "        for order in randomize_order:\n",
    "            category = DF[1][order]\n",
    "            line = DF[0][order]\n",
    "            category_tensor = torch.tensor([all_categories.index(category)], dtype=torch.long)\n",
    "            line_tensor = lineToTensor(line)\n",
    "            output, loss = train(category_tensor, line_tensor)\n",
    "            current_loss += loss\n",
    "    confusion = torch.zeros(n_categories, n_categories)\n",
    "    n_confusion = total_samples\n",
    "    for i in range(n_confusion):\n",
    "        category = DF[1][i]\n",
    "        line = DF[0][i]\n",
    "        category_tensor = torch.tensor([all_categories.index(category)], dtype=torch.long)\n",
    "        line_tensor = lineToTensor(line)\n",
    "        output = evaluate(line_tensor)\n",
    "        guess, guess_i = categoryFromOutput(output)\n",
    "        category_i = all_categories.index(category)\n",
    "        confusion[category_i][guess_i] += 1\n",
    "    accuracy = sum(confusion.diag()) / sum(sum(confusion))\n",
    "    print('n_hidden =', str(n_hidden)+':', 'Accuracy is %f' % accuracy.item())"
   ]
  },
  {
   "cell_type": "markdown",
   "metadata": {},
   "source": [
    "# 2. Batch training of data\n",
    "## 2.1 batch size equals to the number of total samples"
   ]
  },
  {
   "cell_type": "code",
   "execution_count": 7,
   "metadata": {},
   "outputs": [],
   "source": [
    "class RNN_Batch(nn.Module):\n",
    "    def __init__(self):\n",
    "        super(RNN_Batch, self).__init__()\n",
    "        self.rnn = nn.RNN(\n",
    "            input_size=n_letters,\n",
    "            hidden_size=128,  # number of hidden units\n",
    "            num_layers=1,  # number of layers\n",
    "            batch_first=True,\n",
    "        )\n",
    "        self.out = nn.Linear(128, n_categories)\n",
    "\n",
    "    def forward(self, x):\n",
    "        r_out, h = self.rnn(x, None)\n",
    "        out = self.out(r_out[:,-1,:])\n",
    "        return out"
   ]
  },
  {
   "cell_type": "code",
   "execution_count": 8,
   "metadata": {},
   "outputs": [
    {
     "name": "stdout",
     "output_type": "stream",
     "text": [
      "['Khoury', 'Nahas', 'Daher', 'Gerges', 'Nazari']\n",
      "[[15, 38, 45, 51, 48, 55], [18, 31, 38, 31, 49], [8, 31, 38, 35, 48], [11, 35, 48, 37, 35, 49], [18, 31, 56, 31, 48, 39]]\n",
      "tensor([[15, 38, 45,  ...,  0,  0,  0],\n",
      "        [18, 31, 38,  ...,  0,  0,  0],\n",
      "        [ 8, 31, 38,  ...,  0,  0,  0],\n",
      "        ...,\n",
      "        [26, 39, 44,  ...,  0,  0,  0],\n",
      "        [26, 51, 45,  ...,  0,  0,  0],\n",
      "        [26, 51, 51,  ...,  0,  0,  0]])\n"
     ]
    },
    {
     "data": {
      "text/plain": [
       "torch.Size([20074, 19])"
      ]
     },
     "execution_count": 8,
     "metadata": {},
     "output_type": "execute_result"
    }
   ],
   "source": [
    "feature = sorted(set(all_letters))\n",
    "vectorized_seqs = [[feature.index(tok) for tok in seq]for seq in DF[0]]\n",
    "print(DF[0][:5])\n",
    "print(vectorized_seqs[:5])\n",
    "embed = Embedding(len(feature), n_letters)\n",
    "seq_lengths = LongTensor(list(map(len, vectorized_seqs)))\n",
    "seq_tensor = Variable(torch.zeros((len(vectorized_seqs), seq_lengths.max()))).long()\n",
    "for idx, (seq, seqlen) in enumerate(zip(vectorized_seqs, seq_lengths)):\n",
    "    seq_tensor[idx, :seqlen] = LongTensor(seq)\n",
    "print(seq_tensor)\n",
    "seq_tensor.shape"
   ]
  },
  {
   "cell_type": "code",
   "execution_count": 9,
   "metadata": {},
   "outputs": [
    {
     "name": "stdout",
     "output_type": "stream",
     "text": [
      "tensor([[[-1.6483, -0.4694,  0.7653,  ...,  2.6645,  0.6022, -0.7363],\n",
      "         [ 1.4943, -0.0927, -1.8004,  ..., -1.8969,  0.3661, -1.3245],\n",
      "         [-0.2795, -1.0266,  0.9308,  ..., -1.6363, -1.1754,  0.3967],\n",
      "         ...,\n",
      "         [ 0.7038,  1.4780,  1.9921,  ..., -0.5935, -0.7788, -1.1599],\n",
      "         [ 0.7038,  1.4780,  1.9921,  ..., -0.5935, -0.7788, -1.1599],\n",
      "         [ 0.7038,  1.4780,  1.9921,  ..., -0.5935, -0.7788, -1.1599]],\n",
      "\n",
      "        [[-1.5476, -1.2363, -0.4618,  ...,  0.6502, -0.7271, -0.7366],\n",
      "         [-0.4926,  0.2787,  1.1983,  ..., -0.4858, -0.3580, -0.9359],\n",
      "         [ 1.4943, -0.0927, -1.8004,  ..., -1.8969,  0.3661, -1.3245],\n",
      "         ...,\n",
      "         [ 0.7038,  1.4780,  1.9921,  ..., -0.5935, -0.7788, -1.1599],\n",
      "         [ 0.7038,  1.4780,  1.9921,  ..., -0.5935, -0.7788, -1.1599],\n",
      "         [ 0.7038,  1.4780,  1.9921,  ..., -0.5935, -0.7788, -1.1599]],\n",
      "\n",
      "        [[-0.3444,  0.7704, -0.1083,  ..., -0.0875,  1.5361, -0.8697],\n",
      "         [-0.4926,  0.2787,  1.1983,  ..., -0.4858, -0.3580, -0.9359],\n",
      "         [ 1.4943, -0.0927, -1.8004,  ..., -1.8969,  0.3661, -1.3245],\n",
      "         ...,\n",
      "         [ 0.7038,  1.4780,  1.9921,  ..., -0.5935, -0.7788, -1.1599],\n",
      "         [ 0.7038,  1.4780,  1.9921,  ..., -0.5935, -0.7788, -1.1599],\n",
      "         [ 0.7038,  1.4780,  1.9921,  ..., -0.5935, -0.7788, -1.1599]],\n",
      "\n",
      "        ...,\n",
      "\n",
      "        [[ 0.7730, -1.3630, -0.9363,  ...,  1.5804, -0.1806, -1.4261],\n",
      "         [ 0.8678,  0.3147,  0.2449,  ..., -0.1674,  0.3886, -1.5219],\n",
      "         [-1.3094, -1.0832, -0.7961,  ..., -0.3569,  0.0364,  1.8707],\n",
      "         ...,\n",
      "         [ 0.7038,  1.4780,  1.9921,  ..., -0.5935, -0.7788, -1.1599],\n",
      "         [ 0.7038,  1.4780,  1.9921,  ..., -0.5935, -0.7788, -1.1599],\n",
      "         [ 0.7038,  1.4780,  1.9921,  ..., -0.5935, -0.7788, -1.1599]],\n",
      "\n",
      "        [[ 0.7730, -1.3630, -0.9363,  ...,  1.5804, -0.1806, -1.4261],\n",
      "         [-0.7327, -1.6160,  0.4693,  ...,  0.7297, -0.3635, -0.9460],\n",
      "         [-0.2795, -1.0266,  0.9308,  ..., -1.6363, -1.1754,  0.3967],\n",
      "         ...,\n",
      "         [ 0.7038,  1.4780,  1.9921,  ..., -0.5935, -0.7788, -1.1599],\n",
      "         [ 0.7038,  1.4780,  1.9921,  ..., -0.5935, -0.7788, -1.1599],\n",
      "         [ 0.7038,  1.4780,  1.9921,  ..., -0.5935, -0.7788, -1.1599]],\n",
      "\n",
      "        [[ 0.7730, -1.3630, -0.9363,  ...,  1.5804, -0.1806, -1.4261],\n",
      "         [-0.7327, -1.6160,  0.4693,  ...,  0.7297, -0.3635, -0.9460],\n",
      "         [-0.7327, -1.6160,  0.4693,  ...,  0.7297, -0.3635, -0.9460],\n",
      "         ...,\n",
      "         [ 0.7038,  1.4780,  1.9921,  ..., -0.5935, -0.7788, -1.1599],\n",
      "         [ 0.7038,  1.4780,  1.9921,  ..., -0.5935, -0.7788, -1.1599],\n",
      "         [ 0.7038,  1.4780,  1.9921,  ..., -0.5935, -0.7788, -1.1599]]],\n",
      "       grad_fn=<EmbeddingBackward0>)\n"
     ]
    },
    {
     "data": {
      "text/plain": [
       "torch.Size([20074, 19, 57])"
      ]
     },
     "execution_count": 9,
     "metadata": {},
     "output_type": "execute_result"
    }
   ],
   "source": [
    "embedded_seq_tensor = embed(seq_tensor)\n",
    "print(embedded_seq_tensor)\n",
    "embedded_seq_tensor.shape"
   ]
  },
  {
   "cell_type": "code",
   "execution_count": 10,
   "metadata": {},
   "outputs": [
    {
     "name": "stdout",
     "output_type": "stream",
     "text": [
      "['Arabic', 'Arabic', 'Arabic', 'Arabic', 'Arabic']\n",
      "[0, 0, 0, 0, 0]\n"
     ]
    },
    {
     "data": {
      "text/plain": [
       "torch.Size([20074])"
      ]
     },
     "execution_count": 10,
     "metadata": {},
     "output_type": "execute_result"
    }
   ],
   "source": [
    "target = sorted(set(all_categories))\n",
    "vectorized_y = [target.index(tok) for tok in DF[1]]\n",
    "print(DF[1][:5])\n",
    "print(vectorized_y[:5])\n",
    "target_tensor = torch.tensor(vectorized_y,dtype = torch.long)\n",
    "target_tensor.shape"
   ]
  },
  {
   "cell_type": "code",
   "execution_count": 11,
   "metadata": {},
   "outputs": [
    {
     "name": "stdout",
     "output_type": "stream",
     "text": [
      "======= 2.1 Accuracy Report =======\n",
      "Batch Size: 20074\n"
     ]
    }
   ],
   "source": [
    "n_hidden = 128\n",
    "batch_size = total_samples\n",
    "print('======= 2.1 Accuracy Report =======')\n",
    "print('Batch Size:', batch_size)"
   ]
  },
  {
   "cell_type": "code",
   "execution_count": 12,
   "metadata": {},
   "outputs": [],
   "source": [
    "n_epoch = 5\n",
    "rnn = RNN_Batch()\n",
    "optimizer = torch.optim.Adam(rnn.parameters(), lr=learning_rate)\n",
    "loss_func = nn.CrossEntropyLoss()"
   ]
  },
  {
   "cell_type": "code",
   "execution_count": 13,
   "metadata": {},
   "outputs": [],
   "source": [
    "batch = [embedded_seq_tensor,target_tensor]"
   ]
  },
  {
   "cell_type": "code",
   "execution_count": 14,
   "metadata": {},
   "outputs": [
    {
     "name": "stdout",
     "output_type": "stream",
     "text": [
      "Epoch:  0 | train loss: 2.8896 | test accuracy: 0.011607\n",
      "Epoch:  1 | train loss: 2.1124 | test accuracy: 0.468616\n",
      "Epoch:  2 | train loss: 1.9845 | test accuracy: 0.468616\n",
      "Epoch:  3 | train loss: 1.8752 | test accuracy: 0.468616\n",
      "Epoch:  4 | train loss: 1.9038 | test accuracy: 0.468616\n"
     ]
    }
   ],
   "source": [
    "x = batch[0]\n",
    "y = batch[1]\n",
    "n_epoch = 5\n",
    "for epoch in range(n_epoch): \n",
    "    optimizer.zero_grad()\n",
    "    output = rnn(x)\n",
    "    loss = loss_func(output, y) \n",
    "    loss.backward(retain_graph=True)\n",
    "    optimizer.step()\n",
    "    pred = torch.max(output, 1)[1]\n",
    "    accuracy = accuracy_score(y, pred)\n",
    "    print(\"Epoch: \", epoch, \"| train loss: %.4f\" % loss.item(), '| test accuracy: %f' % accuracy)"
   ]
  },
  {
   "cell_type": "markdown",
   "metadata": {},
   "source": [
    "## 2.2 batch size = 1000, 2000, 5000 respectively"
   ]
  },
  {
   "cell_type": "code",
   "execution_count": null,
   "metadata": {
    "scrolled": true
   },
   "outputs": [],
   "source": [
    "print('======= 2.2 Accuracy Report =======')\n",
    "batch_sizes = [1000, 2000, 5000]\n",
    "N = 20000\n",
    "for batch_size in batch_sizes:\n",
    "    print('Batch Size =', batch_size)\n",
    "    rnn = RNN_Batch()\n",
    "    optimizer = torch.optim.Adam(rnn.parameters(), lr=learning_rate)\n",
    "    loss_func = nn.CrossEntropyLoss()\n",
    "    n_epoch = int(N/batch_size)\n",
    "    for epoch in range(n_epoch):\n",
    "        samples = random.sample(list(randomize_order), 20000)\n",
    "        sample_index = [samples[i * batch_size:(i + 1) * batch_size] for i in range((len(samples) + batch_size - 1) // batch_size )]\n",
    "        batch_tensors = []\n",
    "        target_tensors = []\n",
    "        sample = []\n",
    "        target_output = []\n",
    "        for index in sample_index:\n",
    "            for i in index:\n",
    "                sample.append(DF[0][i])\n",
    "                target_output.append(DF[1][i])\n",
    "            vectorized_seqs = [[feature.index(tok) for tok in seq]for seq in sample]\n",
    "            seq_lengths = LongTensor(list(map(len, vectorized_seqs)))\n",
    "            seq_tensor = Variable(torch.zeros((len(vectorized_seqs), seq_lengths.max()))).long()\n",
    "            for idx, (seq, seqlen) in enumerate(zip(vectorized_seqs, seq_lengths)):\n",
    "                seq_tensor[idx, :seqlen] = LongTensor(seq)\n",
    "            embedded_seq_tensor = embed(seq_tensor)\n",
    "            batch_tensors.append(embedded_seq_tensor)\n",
    "            vectorized_y = [target.index(tok) for tok in target_output]\n",
    "            target_tensor = torch.tensor(vectorized_y,dtype = torch.long)\n",
    "            target_tensors.append(target_tensor)  \n",
    "        for j in range(n_epoch):\n",
    "            batch = [batch_tensors[j],target_tensors[j]]\n",
    "            x = batch[0]\n",
    "            y = batch[1]\n",
    "            optimizer.zero_grad()\n",
    "            output = rnn(x)\n",
    "            loss = loss_func(output, y) \n",
    "            loss.backward(retain_graph=True)\n",
    "            optimizer.step()\n",
    "        test_output = rnn(embedded_seq_tensor)\n",
    "        pred = torch.max(test_output, 1)[1]\n",
    "        accuracy = accuracy_score(y, pred)\n",
    "        print(\"Epoch: \", epoch, \"| train loss: %.4f\" % loss.item(), '| test accuracy: %f' % accuracy)"
   ]
  },
  {
   "cell_type": "markdown",
   "metadata": {},
   "source": [
    "# 3. Model cross-validation "
   ]
  },
  {
   "cell_type": "code",
   "execution_count": null,
   "metadata": {},
   "outputs": [],
   "source": [
    "feature = sorted(set(all_letters))\n",
    "vectorized_seqs = [[feature.index(tok) for tok in seq]for seq in DF[0]]\n",
    "print(DF[0][:5])\n",
    "print(vectorized_seqs[:5])\n",
    "embed = Embedding(len(feature), n_letters)\n",
    "seq_lengths = LongTensor(list(map(len, vectorized_seqs)))\n",
    "seq_tensor = Variable(torch.zeros((len(vectorized_seqs), seq_lengths.max()))).long()\n",
    "for idx, (seq, seqlen) in enumerate(zip(vectorized_seqs, seq_lengths)):\n",
    "    seq_tensor[idx, :seqlen] = LongTensor(seq)\n",
    "print(seq_tensor)\n",
    "embedded_seq_tensor = embed(seq_tensor)\n",
    "print(embedded_seq_tensor)\n",
    "print(embedded_seq_tensor.shape)\n",
    "target = sorted(set(all_categories))\n",
    "vectorized_y = [target.index(tok) for tok in DF[1]]\n",
    "print(DF[1][:5])\n",
    "print(vectorized_y[:5])\n",
    "target_tensor = torch.tensor(vectorized_y,dtype = torch.long)\n",
    "print(target_tensor.shape)"
   ]
  },
  {
   "cell_type": "markdown",
   "metadata": {},
   "source": [
    "## 3.1 Five-fold Cross-Validation for RNN"
   ]
  },
  {
   "cell_type": "code",
   "execution_count": null,
   "metadata": {},
   "outputs": [],
   "source": [
    "print('======= 3.1 Accuracy Report =======')\n",
    "kfold_cv = KFold(n_splits=5, random_state=None, shuffle=True)\n",
    "rnn = RNN_Batch()\n",
    "optimizer = torch.optim.Adam(rnn.parameters(), lr=learning_rate)\n",
    "loss_func = nn.CrossEntropyLoss()\n",
    "n_epoch = 5 \n",
    "for epoch in range(n_epoch):\n",
    "    accuracies = []\n",
    "    for train_index, test_index in kfold_cv.split(np.arange(0, total_samples)):\n",
    "        X_train, X_test, y_train, y_test = embedded_seq_tensor[train_index], embedded_seq_tensor[test_index], target_tensor[train_index], target_tensor[test_index]\n",
    "        optimizer.zero_grad()\n",
    "        output = rnn(X_train)\n",
    "        loss = loss_func(output, y_train) \n",
    "        loss.backward(retain_graph=True)\n",
    "        optimizer.step()\n",
    "        test_output = rnn(X_test)\n",
    "        pred = torch.max(test_output, 1)[1]\n",
    "        accuracies.append(accuracy_score(y_test, pred))\n",
    "    print(\"Epoch: \", epoch, \"| Train Loss: %.4f\" % loss.item(), '| Test accuracy: %f' % np.mean(accuracies))"
   ]
  },
  {
   "cell_type": "markdown",
   "metadata": {},
   "source": [
    "## 3.2 LSTM"
   ]
  },
  {
   "cell_type": "code",
   "execution_count": null,
   "metadata": {},
   "outputs": [],
   "source": [
    "class LSTM(nn.Module):\n",
    "    def __init__(self):\n",
    "        super(LSTM, self).__init__()\n",
    "\n",
    "        self.rnn = nn.LSTM(\n",
    "            input_size = n_letters,\n",
    "            hidden_size = 128,\n",
    "            num_layers = 1,\n",
    "            batch_first = True,\n",
    "        )\n",
    "        self.out = nn.Linear(128, n_categories)\n",
    "\n",
    "    def forward(self, x):\n",
    "        # x shape (batch, time_step, input_size)\n",
    "        # r_out shape (batch, time_step, output_size)\n",
    "        # h_n shape (n_layers, batch, hidden_size)\n",
    "        # h_c shape (n_layers, batch, hidden_size)\n",
    "        r_out, (h_n, h_c) = self.rnn(x, None)   # None represents zero initial hidden state\n",
    "\n",
    "        # choose last time step of r_out\n",
    "        out = self.out(r_out[:, -1, :])\n",
    "        return out"
   ]
  },
  {
   "cell_type": "code",
   "execution_count": null,
   "metadata": {},
   "outputs": [],
   "source": [
    "print('======= 3.2 Accuracy Report =======')\n",
    "lstm = LSTM()\n",
    "optimizer = torch.optim.Adam(lstm.parameters(), lr=learning_rate)\n",
    "loss_func = nn.CrossEntropyLoss()\n",
    "n_epoch = 5\n",
    "for epoch in range(n_epoch):\n",
    "    optimizer.zero_grad()\n",
    "    output = lstm(embedded_seq_tensor)  \n",
    "    loss = loss_func(output, target_tensor) \n",
    "    loss.backward(retain_graph=True) \n",
    "    optimizer.step()\n",
    "    pred = torch.max(output, 1)[1]\n",
    "    accuracy = accuracy_score(target_tensor, pred)\n",
    "    print(\"Epoch: \", epoch, \"| train loss: %.4f\" % loss.item(), '| test accuracy: %f' % accuracy)"
   ]
  },
  {
   "cell_type": "markdown",
   "metadata": {},
   "source": [
    "## 3.3 Stratified-Five-Fold Cross-Validation"
   ]
  },
  {
   "cell_type": "code",
   "execution_count": null,
   "metadata": {},
   "outputs": [],
   "source": [
    "print('======= 3.3 Accuracy Report =======')\n",
    "skfold_cv = StratifiedKFold(n_splits=5)\n",
    "rnn = RNN_Batch()\n",
    "optimizer = torch.optim.Adam(rnn.parameters(), lr=learning_rate)\n",
    "loss_func = nn.CrossEntropyLoss()\n",
    "n_epoch = 5 \n",
    "for epoch in range(n_epoch):\n",
    "    accuracies = []\n",
    "    for Train, Test in skfold_cv.split(embedded_seq_tensor,target_tensor):\n",
    "        optimizer.zero_grad()\n",
    "        output = rnn(embedded_seq_tensor[Train])\n",
    "        loss = loss_func(output, target_tensor[Train]) \n",
    "        loss.backward(retain_graph=True)\n",
    "        optimizer.step()\n",
    "        test_output = rnn(embedded_seq_tensor[Test])\n",
    "        pred = torch.max(test_output, 1)[1]\n",
    "        accuracy = accuracy_score(target_tensor[Test], pred)\n",
    "        accuracies.append(accuracy)\n",
    "    print(\"Epoch: \", epoch, \"| Train Loss: %.4f\" % loss.item(), '| Test accuracy: %f' % np.mean(accuracies))"
   ]
  },
  {
   "cell_type": "code",
   "execution_count": null,
   "metadata": {},
   "outputs": [],
   "source": []
  }
 ],
 "metadata": {
  "kernelspec": {
   "display_name": "Python 3 (ipykernel)",
   "language": "python",
   "name": "python3"
  },
  "language_info": {
   "codemirror_mode": {
    "name": "ipython",
    "version": 3
   },
   "file_extension": ".py",
   "mimetype": "text/x-python",
   "name": "python",
   "nbconvert_exporter": "python",
   "pygments_lexer": "ipython3",
   "version": "3.9.12"
  }
 },
 "nbformat": 4,
 "nbformat_minor": 2
}
