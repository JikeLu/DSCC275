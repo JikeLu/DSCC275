{
 "cells": [
  {
   "cell_type": "code",
   "execution_count": 1,
   "id": "c8acee66",
   "metadata": {},
   "outputs": [
    {
     "name": "stderr",
     "output_type": "stream",
     "text": [
      "E:\\Anaconda\\lib\\site-packages\\statsmodels\\tsa\\base\\tsa_model.py:7: FutureWarning: pandas.Int64Index is deprecated and will be removed from pandas in a future version. Use pandas.Index with the appropriate dtype instead.\n",
      "  from pandas import (to_datetime, Int64Index, DatetimeIndex, Period,\n",
      "E:\\Anaconda\\lib\\site-packages\\statsmodels\\tsa\\base\\tsa_model.py:7: FutureWarning: pandas.Float64Index is deprecated and will be removed from pandas in a future version. Use pandas.Index with the appropriate dtype instead.\n",
      "  from pandas import (to_datetime, Int64Index, DatetimeIndex, Period,\n"
     ]
    }
   ],
   "source": [
    "from statsmodels.tsa.arima_model import ARIMA\n",
    "import pandas as pd\n",
    "import numpy as np"
   ]
  },
  {
   "cell_type": "markdown",
   "id": "6f2ec71f",
   "metadata": {},
   "source": [
    "# Q1\n"
   ]
  },
  {
   "cell_type": "code",
   "execution_count": 2,
   "id": "61c07922",
   "metadata": {},
   "outputs": [],
   "source": [
    "df_m=pd.read_csv(\"Measurement_Q1.csv\")"
   ]
  },
  {
   "cell_type": "code",
   "execution_count": 3,
   "id": "10d2633b",
   "metadata": {},
   "outputs": [
    {
     "data": {
      "text/plain": [
       "0      1.84\n",
       "1      3.93\n",
       "2      4.00\n",
       "3      5.42\n",
       "4      6.89\n",
       "       ... \n",
       "145    3.65\n",
       "146    2.82\n",
       "147    2.81\n",
       "148    1.64\n",
       "149    0.00\n",
       "Name: Measurement, Length: 150, dtype: float64"
      ]
     },
     "execution_count": 3,
     "metadata": {},
     "output_type": "execute_result"
    }
   ],
   "source": [
    "df_m.Measurement"
   ]
  },
  {
   "cell_type": "code",
   "execution_count": 4,
   "id": "a30cd4d2",
   "metadata": {},
   "outputs": [
    {
     "name": "stderr",
     "output_type": "stream",
     "text": [
      "E:\\Anaconda\\lib\\site-packages\\statsmodels\\tsa\\arima_model.py:472: FutureWarning: \n",
      "statsmodels.tsa.arima_model.ARMA and statsmodels.tsa.arima_model.ARIMA have\n",
      "been deprecated in favor of statsmodels.tsa.arima.model.ARIMA (note the .\n",
      "between arima and model) and\n",
      "statsmodels.tsa.SARIMAX. These will be removed after the 0.12 release.\n",
      "\n",
      "statsmodels.tsa.arima.model.ARIMA makes use of the statespace framework and\n",
      "is both well tested and maintained.\n",
      "\n",
      "To silence this warning and continue using ARMA and ARIMA until they are\n",
      "removed, use:\n",
      "\n",
      "import warnings\n",
      "warnings.filterwarnings('ignore', 'statsmodels.tsa.arima_model.ARMA',\n",
      "                        FutureWarning)\n",
      "warnings.filterwarnings('ignore', 'statsmodels.tsa.arima_model.ARIMA',\n",
      "                        FutureWarning)\n",
      "\n",
      "  warnings.warn(ARIMA_DEPRECATION_WARN, FutureWarning)\n"
     ]
    }
   ],
   "source": [
    "measurement_model = ARIMA(df_m.Measurement, order=(0,1,1))"
   ]
  },
  {
   "cell_type": "code",
   "execution_count": 5,
   "id": "429aee56",
   "metadata": {},
   "outputs": [
    {
     "data": {
      "text/html": [
       "<table class=\"simpletable\">\n",
       "<caption>ARIMA Model Results</caption>\n",
       "<tr>\n",
       "  <th>Dep. Variable:</th>   <td>D.Measurement</td>  <th>  No. Observations:  </th>    <td>149</td>  \n",
       "</tr>\n",
       "<tr>\n",
       "  <th>Model:</th>          <td>ARIMA(0, 1, 1)</td>  <th>  Log Likelihood     </th> <td>-202.607</td>\n",
       "</tr>\n",
       "<tr>\n",
       "  <th>Method:</th>             <td>css-mle</td>     <th>  S.D. of innovations</th>   <td>0.940</td> \n",
       "</tr>\n",
       "<tr>\n",
       "  <th>Date:</th>          <td>Fri, 14 Oct 2022</td> <th>  AIC                </th>  <td>411.215</td>\n",
       "</tr>\n",
       "<tr>\n",
       "  <th>Time:</th>              <td>07:09:42</td>     <th>  BIC                </th>  <td>420.227</td>\n",
       "</tr>\n",
       "<tr>\n",
       "  <th>Sample:</th>                <td>1</td>        <th>  HQIC               </th>  <td>414.876</td>\n",
       "</tr>\n",
       "<tr>\n",
       "  <th></th>                       <td> </td>        <th>                     </th>     <td> </td>   \n",
       "</tr>\n",
       "</table>\n",
       "<table class=\"simpletable\">\n",
       "<tr>\n",
       "           <td></td>              <th>coef</th>     <th>std err</th>      <th>z</th>      <th>P>|z|</th>  <th>[0.025</th>    <th>0.975]</th>  \n",
       "</tr>\n",
       "<tr>\n",
       "  <th>const</th>               <td>   -0.0064</td> <td>    0.135</td> <td>   -0.048</td> <td> 0.962</td> <td>   -0.270</td> <td>    0.257</td>\n",
       "</tr>\n",
       "<tr>\n",
       "  <th>ma.L1.D.Measurement</th> <td>    0.7531</td> <td>    0.069</td> <td>   10.930</td> <td> 0.000</td> <td>    0.618</td> <td>    0.888</td>\n",
       "</tr>\n",
       "</table>\n",
       "<table class=\"simpletable\">\n",
       "<caption>Roots</caption>\n",
       "<tr>\n",
       "    <td></td>   <th>            Real</th>  <th>         Imaginary</th> <th>         Modulus</th>  <th>        Frequency</th>\n",
       "</tr>\n",
       "<tr>\n",
       "  <th>MA.1</th> <td>          -1.3278</td> <td>          +0.0000j</td> <td>           1.3278</td> <td>           0.5000</td>\n",
       "</tr>\n",
       "</table>"
      ],
      "text/plain": [
       "<class 'statsmodels.iolib.summary.Summary'>\n",
       "\"\"\"\n",
       "                             ARIMA Model Results                              \n",
       "==============================================================================\n",
       "Dep. Variable:          D.Measurement   No. Observations:                  149\n",
       "Model:                 ARIMA(0, 1, 1)   Log Likelihood                -202.607\n",
       "Method:                       css-mle   S.D. of innovations              0.940\n",
       "Date:                Fri, 14 Oct 2022   AIC                            411.215\n",
       "Time:                        07:09:42   BIC                            420.227\n",
       "Sample:                             1   HQIC                           414.876\n",
       "                                                                              \n",
       "=======================================================================================\n",
       "                          coef    std err          z      P>|z|      [0.025      0.975]\n",
       "---------------------------------------------------------------------------------------\n",
       "const                  -0.0064      0.135     -0.048      0.962      -0.270       0.257\n",
       "ma.L1.D.Measurement     0.7531      0.069     10.930      0.000       0.618       0.888\n",
       "                                    Roots                                    \n",
       "=============================================================================\n",
       "                  Real          Imaginary           Modulus         Frequency\n",
       "-----------------------------------------------------------------------------\n",
       "MA.1           -1.3278           +0.0000j            1.3278            0.5000\n",
       "-----------------------------------------------------------------------------\n",
       "\"\"\""
      ]
     },
     "execution_count": 5,
     "metadata": {},
     "output_type": "execute_result"
    }
   ],
   "source": [
    "measurement_model_fit = measurement_model.fit()\n",
    "measurement_model_fit.summary()"
   ]
  },
  {
   "cell_type": "code",
   "execution_count": 6,
   "id": "28cce07e",
   "metadata": {},
   "outputs": [],
   "source": [
    "first_dif=df_m.Measurement.diff(periods=1)"
   ]
  },
  {
   "cell_type": "code",
   "execution_count": 7,
   "id": "c1c969c6",
   "metadata": {},
   "outputs": [
    {
     "data": {
      "image/png": "[encoded data removed]",
      "text/plain": [
       "<Figure size 432x288 with 1 Axes>"
      ]
     },
     "metadata": {
      "needs_background": "light"
     },
     "output_type": "display_data"
    }
   ],
   "source": [
    "from matplotlib import pyplot as plt\n",
    "plt.plot(df_m.Time,first_dif)\n",
    "plt.show()"
   ]
  },
  {
   "cell_type": "code",
   "execution_count": 8,
   "id": "749b86aa",
   "metadata": {},
   "outputs": [
    {
     "name": "stderr",
     "output_type": "stream",
     "text": [
      "E:\\Anaconda\\lib\\site-packages\\statsmodels\\tsa\\arima_model.py:472: FutureWarning: \n",
      "statsmodels.tsa.arima_model.ARMA and statsmodels.tsa.arima_model.ARIMA have\n",
      "been deprecated in favor of statsmodels.tsa.arima.model.ARIMA (note the .\n",
      "between arima and model) and\n",
      "statsmodels.tsa.SARIMAX. These will be removed after the 0.12 release.\n",
      "\n",
      "statsmodels.tsa.arima.model.ARIMA makes use of the statespace framework and\n",
      "is both well tested and maintained.\n",
      "\n",
      "To silence this warning and continue using ARMA and ARIMA until they are\n",
      "removed, use:\n",
      "\n",
      "import warnings\n",
      "warnings.filterwarnings('ignore', 'statsmodels.tsa.arima_model.ARMA',\n",
      "                        FutureWarning)\n",
      "warnings.filterwarnings('ignore', 'statsmodels.tsa.arima_model.ARIMA',\n",
      "                        FutureWarning)\n",
      "\n",
      "  warnings.warn(ARIMA_DEPRECATION_WARN, FutureWarning)\n"
     ]
    }
   ],
   "source": [
    "measurement_model_2 = ARIMA(first_dif[1:], order=(0,0,1))"
   ]
  },
  {
   "cell_type": "code",
   "execution_count": 9,
   "id": "ebe5fb75",
   "metadata": {},
   "outputs": [
    {
     "data": {
      "text/html": [
       "<table class=\"simpletable\">\n",
       "<caption>ARMA Model Results</caption>\n",
       "<tr>\n",
       "  <th>Dep. Variable:</th>    <td>Measurement</td>   <th>  No. Observations:  </th>    <td>149</td>  \n",
       "</tr>\n",
       "<tr>\n",
       "  <th>Model:</th>            <td>ARMA(0, 1)</td>    <th>  Log Likelihood     </th> <td>-202.607</td>\n",
       "</tr>\n",
       "<tr>\n",
       "  <th>Method:</th>             <td>css-mle</td>     <th>  S.D. of innovations</th>   <td>0.940</td> \n",
       "</tr>\n",
       "<tr>\n",
       "  <th>Date:</th>          <td>Fri, 14 Oct 2022</td> <th>  AIC                </th>  <td>411.215</td>\n",
       "</tr>\n",
       "<tr>\n",
       "  <th>Time:</th>              <td>07:09:45</td>     <th>  BIC                </th>  <td>420.227</td>\n",
       "</tr>\n",
       "<tr>\n",
       "  <th>Sample:</th>                <td>0</td>        <th>  HQIC               </th>  <td>414.876</td>\n",
       "</tr>\n",
       "<tr>\n",
       "  <th></th>                       <td> </td>        <th>                     </th>     <td> </td>   \n",
       "</tr>\n",
       "</table>\n",
       "<table class=\"simpletable\">\n",
       "<tr>\n",
       "          <td></td>             <th>coef</th>     <th>std err</th>      <th>z</th>      <th>P>|z|</th>  <th>[0.025</th>    <th>0.975]</th>  \n",
       "</tr>\n",
       "<tr>\n",
       "  <th>const</th>             <td>   -0.0064</td> <td>    0.135</td> <td>   -0.048</td> <td> 0.962</td> <td>   -0.270</td> <td>    0.257</td>\n",
       "</tr>\n",
       "<tr>\n",
       "  <th>ma.L1.Measurement</th> <td>    0.7531</td> <td>    0.069</td> <td>   10.930</td> <td> 0.000</td> <td>    0.618</td> <td>    0.888</td>\n",
       "</tr>\n",
       "</table>\n",
       "<table class=\"simpletable\">\n",
       "<caption>Roots</caption>\n",
       "<tr>\n",
       "    <td></td>   <th>            Real</th>  <th>         Imaginary</th> <th>         Modulus</th>  <th>        Frequency</th>\n",
       "</tr>\n",
       "<tr>\n",
       "  <th>MA.1</th> <td>          -1.3278</td> <td>          +0.0000j</td> <td>           1.3278</td> <td>           0.5000</td>\n",
       "</tr>\n",
       "</table>"
      ],
      "text/plain": [
       "<class 'statsmodels.iolib.summary.Summary'>\n",
       "\"\"\"\n",
       "                              ARMA Model Results                              \n",
       "==============================================================================\n",
       "Dep. Variable:            Measurement   No. Observations:                  149\n",
       "Model:                     ARMA(0, 1)   Log Likelihood                -202.607\n",
       "Method:                       css-mle   S.D. of innovations              0.940\n",
       "Date:                Fri, 14 Oct 2022   AIC                            411.215\n",
       "Time:                        07:09:45   BIC                            420.227\n",
       "Sample:                             0   HQIC                           414.876\n",
       "                                                                              \n",
       "=====================================================================================\n",
       "                        coef    std err          z      P>|z|      [0.025      0.975]\n",
       "-------------------------------------------------------------------------------------\n",
       "const                -0.0064      0.135     -0.048      0.962      -0.270       0.257\n",
       "ma.L1.Measurement     0.7531      0.069     10.930      0.000       0.618       0.888\n",
       "                                    Roots                                    \n",
       "=============================================================================\n",
       "                  Real          Imaginary           Modulus         Frequency\n",
       "-----------------------------------------------------------------------------\n",
       "MA.1           -1.3278           +0.0000j            1.3278            0.5000\n",
       "-----------------------------------------------------------------------------\n",
       "\"\"\""
      ]
     },
     "execution_count": 9,
     "metadata": {},
     "output_type": "execute_result"
    }
   ],
   "source": [
    "measurement_model_fit_2 = measurement_model_2.fit()\n",
    "measurement_model_fit_2.summary()"
   ]
  },
  {
   "cell_type": "code",
   "execution_count": 10,
   "id": "bf0c6565",
   "metadata": {},
   "outputs": [],
   "source": [
    "# D)\n",
    "# Based on the parameters we obtain, we see that this 2 models are the same. From theroretical point,IMA(1,1) is the data take first \n",
    "# difference and then implement the MA(1).(exactly the same)\n"
   ]
  },
  {
   "cell_type": "markdown",
   "id": "197ae9f3",
   "metadata": {},
   "source": [
    "# Q2\n"
   ]
  },
  {
   "cell_type": "code",
   "execution_count": 11,
   "id": "410ad095",
   "metadata": {},
   "outputs": [],
   "source": [
    "df_2=pd.read_csv(\"GlobalAirTemperature.csv\")"
   ]
  },
  {
   "cell_type": "code",
   "execution_count": 12,
   "id": "358ecd2c",
   "metadata": {},
   "outputs": [],
   "source": [
    "df_2=df_2[\"Anomaly, C\"].tolist()"
   ]
  },
  {
   "cell_type": "code",
   "execution_count": 13,
   "id": "627483f2",
   "metadata": {},
   "outputs": [
    {
     "name": "stderr",
     "output_type": "stream",
     "text": [
      "E:\\Anaconda\\lib\\site-packages\\statsmodels\\tsa\\arima_model.py:472: FutureWarning: \n",
      "statsmodels.tsa.arima_model.ARMA and statsmodels.tsa.arima_model.ARIMA have\n",
      "been deprecated in favor of statsmodels.tsa.arima.model.ARIMA (note the .\n",
      "between arima and model) and\n",
      "statsmodels.tsa.SARIMAX. These will be removed after the 0.12 release.\n",
      "\n",
      "statsmodels.tsa.arima.model.ARIMA makes use of the statespace framework and\n",
      "is both well tested and maintained.\n",
      "\n",
      "To silence this warning and continue using ARMA and ARIMA until they are\n",
      "removed, use:\n",
      "\n",
      "import warnings\n",
      "warnings.filterwarnings('ignore', 'statsmodels.tsa.arima_model.ARMA',\n",
      "                        FutureWarning)\n",
      "warnings.filterwarnings('ignore', 'statsmodels.tsa.arima_model.ARIMA',\n",
      "                        FutureWarning)\n",
      "\n",
      "  warnings.warn(ARIMA_DEPRECATION_WARN, FutureWarning)\n"
     ]
    }
   ],
   "source": [
    "global_air_model = ARIMA(df_2, order=(0,1,1))"
   ]
  },
  {
   "cell_type": "code",
   "execution_count": 14,
   "id": "44587e26",
   "metadata": {
    "scrolled": true
   },
   "outputs": [
    {
     "name": "stdout",
     "output_type": "stream",
     "text": [
      "the sse is 2.1895168757020445\n"
     ]
    }
   ],
   "source": [
    "global_air_model_fit = global_air_model.fit()\n",
    "global_air_predict = global_air_model_fit.predict (typ = 'levels')\n",
    "#calculate sum square error\n",
    "square_error=global_air_predict-df_2[1:]\n",
    "sse=sum(np.square(square_error))\n",
    "print(f\"the sse is {sse}\")"
   ]
  },
  {
   "cell_type": "code",
   "execution_count": 15,
   "id": "6d0f40b0",
   "metadata": {
    "scrolled": true
   },
   "outputs": [
    {
     "name": "stdout",
     "output_type": "stream",
     "text": [
      "the sse is 2.057000655905797\n"
     ]
    }
   ],
   "source": [
    "global_air_model_2 = ARIMA(df_2, order=(0,1,2))\n",
    "global_air_model_2_fit = global_air_model_2.fit()\n",
    "global_air_model_2_predict = global_air_model_2_fit.predict (typ = 'levels')\n",
    "#calculate sum square error\n",
    "square_error_2=(global_air_model_2_predict-df_2[1:])\n",
    "sse_2=sum(np.square(square_error_2))\n",
    "print(f\"the sse is {sse_2}\")"
   ]
  },
  {
   "cell_type": "code",
   "execution_count": 16,
   "id": "02a4dea2",
   "metadata": {},
   "outputs": [],
   "source": [
    "#c) model b is better suited for this data because it has lower sse."
   ]
  },
  {
   "cell_type": "markdown",
   "id": "3e44d7de",
   "metadata": {},
   "source": [
    "# Q3\n"
   ]
  },
  {
   "cell_type": "code",
   "execution_count": 17,
   "id": "05a8e7b8",
   "metadata": {},
   "outputs": [],
   "source": [
    "import statsmodels.api as sm"
   ]
  },
  {
   "cell_type": "code",
   "execution_count": 18,
   "id": "1917f4f6",
   "metadata": {},
   "outputs": [],
   "source": [
    "df_3=pd.read_csv(\"Measurement_Q3.csv\")"
   ]
  },
  {
   "cell_type": "code",
   "execution_count": 19,
   "id": "9336b1de",
   "metadata": {},
   "outputs": [
    {
     "data": {
      "text/plain": [
       "[<matplotlib.lines.Line2D at 0x1d381564430>]"
      ]
     },
     "execution_count": 19,
     "metadata": {},
     "output_type": "execute_result"
    },
    {
     "data": {
      "image/png": "[encoded data removed]",
      "text/plain": [
       "<Figure size 432x288 with 1 Axes>"
      ]
     },
     "metadata": {
      "needs_background": "light"
     },
     "output_type": "display_data"
    }
   ],
   "source": [
    "# time series\n",
    "plt.plot(df_3.Measurement)"
   ]
  },
  {
   "cell_type": "code",
   "execution_count": 20,
   "id": "35f06f6c",
   "metadata": {},
   "outputs": [
    {
     "data": {
      "image/png": "[encoded data removed]",
      "text/plain": [
       "<Figure size 432x288 with 1 Axes>"
      ]
     },
     "metadata": {
      "needs_background": "light"
     },
     "output_type": "display_data"
    }
   ],
   "source": [
    "# ACF\n",
    "sm.graphics.tsa.plot_acf(df_3.Measurement)\n",
    "plt.show()"
   ]
  },
  {
   "cell_type": "code",
   "execution_count": 21,
   "id": "b280142a",
   "metadata": {},
   "outputs": [
    {
     "data": {
      "image/png": "[encoded data removed]",
      "text/plain": [
       "<Figure size 432x288 with 1 Axes>"
      ]
     },
     "metadata": {
      "needs_background": "light"
     },
     "output_type": "display_data"
    }
   ],
   "source": [
    "# PACF\n",
    "sm.graphics.tsa.plot_pacf(df_3.Measurement)\n",
    "plt.show()"
   ]
  },
  {
   "cell_type": "code",
   "execution_count": 22,
   "id": "16866764",
   "metadata": {},
   "outputs": [
    {
     "data": {
      "image/png": "[encoded data removed]",
      "text/plain": [
       "<Figure size 432x288 with 1 Axes>"
      ]
     },
     "metadata": {
      "needs_background": "light"
     },
     "output_type": "display_data"
    },
    {
     "data": {
      "image/png": "[encoded data removed]",
      "text/plain": [
       "<Figure size 432x288 with 1 Axes>"
      ]
     },
     "metadata": {
      "needs_background": "light"
     },
     "output_type": "display_data"
    }
   ],
   "source": [
    "# first difference\n",
    "df_3_diff=df_3.Measurement.diff(periods=1)\n",
    "# ACF\n",
    "sm.graphics.tsa.plot_acf(df_3_diff[1:])\n",
    "plt.show()\n",
    "# PACF\n",
    "sm.graphics.tsa.plot_pacf(df_3_diff[1:])\n",
    "plt.show()"
   ]
  },
  {
   "cell_type": "code",
   "execution_count": 23,
   "id": "2f098ba2",
   "metadata": {},
   "outputs": [],
   "source": [
    "# Based on the result in b, we see that in acf there are 2 siginificant lags, which means it is MA(2). In Pacf, there are 2 siginificant lag.\n",
    "# that means it is AR(2). Thus, I recommand MA(2) and AR(2) to this data in question b."
   ]
  }
 ],
 "metadata": {
  "kernelspec": {
   "display_name": "Python 3 (ipykernel)",
   "language": "python",
   "name": "python3"
  },
  "language_info": {
   "codemirror_mode": {
    "name": "ipython",
    "version": 3
   },
   "file_extension": ".py",
   "mimetype": "text/x-python",
   "name": "python",
   "nbconvert_exporter": "python",
   "pygments_lexer": "ipython3",
   "version": "3.9.12"
  }
 },
 "nbformat": 4,
 "nbformat_minor": 5
}
