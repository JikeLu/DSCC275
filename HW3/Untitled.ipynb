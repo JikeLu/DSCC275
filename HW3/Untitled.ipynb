{
 "cells": [
  {
   "cell_type": "code",
   "execution_count": 2,
   "id": "4bbd31db",
   "metadata": {},
   "outputs": [
    {
     "name": "stderr",
     "output_type": "stream",
     "text": [
      "E:\\Anaconda\\lib\\site-packages\\statsmodels\\tsa\\base\\tsa_model.py:7: FutureWarning: pandas.Int64Index is deprecated and will be removed from pandas in a future version. Use pandas.Index with the appropriate dtype instead.\n",
      "  from pandas import (to_datetime, Int64Index, DatetimeIndex, Period,\n",
      "E:\\Anaconda\\lib\\site-packages\\statsmodels\\tsa\\base\\tsa_model.py:7: FutureWarning: pandas.Float64Index is deprecated and will be removed from pandas in a future version. Use pandas.Index with the appropriate dtype instead.\n",
      "  from pandas import (to_datetime, Int64Index, DatetimeIndex, Period,\n"
     ]
    }
   ],
   "source": [
    "import pandas as pd\n",
    "from matplotlib import pyplot as plt\n",
    "from datetime import datetime\n",
    "import numpy as np\n",
    "from statsmodels.graphics.tsaplots import plot_acf, plot_pacf\n",
    "from statsmodels.tsa.statespace.sarimax import SARIMAX\n",
    "from itertools import product\n",
    "import warnings\n",
    "from rich.progress import track\n",
    "warnings.filterwarnings(\"ignore\", category=FutureWarning)\n"
   ]
  },
  {
   "cell_type": "code",
   "execution_count": 4,
   "id": "07061299",
   "metadata": {},
   "outputs": [
    {
     "data": {
      "application/vnd.jupyter.widget-view+json": {
       "model_id": "87a33be37bb645358d815cecd464a66d",
       "version_major": 2,
       "version_minor": 0
      },
      "text/plain": [
       "Output()"
      ]
     },
     "metadata": {},
     "output_type": "display_data"
    },
    {
     "data": {
      "text/html": [
       "<pre style=\"white-space:pre;overflow-x:auto;line-height:normal;font-family:Menlo,'DejaVu Sans Mono',consolas,'Courier New',monospace\">(0, 1, 0, 0, 1, 0)\n",
       "</pre>\n"
      ],
      "text/plain": [
       "(0, 1, 0, 0, 1, 0)\n"
      ]
     },
     "metadata": {},
     "output_type": "display_data"
    },
    {
     "data": {
      "text/html": [
       "<pre style=\"white-space:pre;overflow-x:auto;line-height:normal;font-family:Menlo,'DejaVu Sans Mono',consolas,'Courier New',monospace\">(0, 1, 0, 0, 1, 1)\n",
       "</pre>\n"
      ],
      "text/plain": [
       "(0, 1, 0, 0, 1, 1)\n"
      ]
     },
     "metadata": {},
     "output_type": "display_data"
    },
    {
     "data": {
      "text/html": [
       "<pre style=\"white-space:pre;overflow-x:auto;line-height:normal;font-family:Menlo,'DejaVu Sans Mono',consolas,'Courier New',monospace\">(0, 1, 0, 0, 1, 2)\n",
       "</pre>\n"
      ],
      "text/plain": [
       "(0, 1, 0, 0, 1, 2)\n"
      ]
     },
     "metadata": {},
     "output_type": "display_data"
    },
    {
     "data": {
      "text/html": [
       "<pre style=\"white-space:pre;overflow-x:auto;line-height:normal;font-family:Menlo,'DejaVu Sans Mono',consolas,'Courier New',monospace\">(0, 1, 0, 0, 1, 3)\n",
       "</pre>\n"
      ],
      "text/plain": [
       "(0, 1, 0, 0, 1, 3)\n"
      ]
     },
     "metadata": {},
     "output_type": "display_data"
    },
    {
     "data": {
      "text/html": [
       "<pre style=\"white-space:pre;overflow-x:auto;line-height:normal;font-family:Menlo,'DejaVu Sans Mono',consolas,'Courier New',monospace\">(0, 1, 0, 1, 1, 0)\n",
       "</pre>\n"
      ],
      "text/plain": [
       "(0, 1, 0, 1, 1, 0)\n"
      ]
     },
     "metadata": {},
     "output_type": "display_data"
    },
    {
     "data": {
      "text/html": [
       "<pre style=\"white-space:pre;overflow-x:auto;line-height:normal;font-family:Menlo,'DejaVu Sans Mono',consolas,'Courier New',monospace\">(0, 1, 0, 1, 1, 1)\n",
       "</pre>\n"
      ],
      "text/plain": [
       "(0, 1, 0, 1, 1, 1)\n"
      ]
     },
     "metadata": {},
     "output_type": "display_data"
    },
    {
     "data": {
      "text/html": [
       "<pre style=\"white-space:pre;overflow-x:auto;line-height:normal;font-family:Menlo,'DejaVu Sans Mono',consolas,'Courier New',monospace\">(0, 1, 0, 1, 1, 2)\n",
       "</pre>\n"
      ],
      "text/plain": [
       "(0, 1, 0, 1, 1, 2)\n"
      ]
     },
     "metadata": {},
     "output_type": "display_data"
    },
    {
     "data": {
      "text/html": [
       "<pre style=\"white-space:pre;overflow-x:auto;line-height:normal;font-family:Menlo,'DejaVu Sans Mono',consolas,'Courier New',monospace\">(0, 1, 0, 1, 1, 3)\n",
       "</pre>\n"
      ],
      "text/plain": [
       "(0, 1, 0, 1, 1, 3)\n"
      ]
     },
     "metadata": {},
     "output_type": "display_data"
    },
    {
     "data": {
      "text/html": [
       "<pre style=\"white-space:pre;overflow-x:auto;line-height:normal;font-family:Menlo,'DejaVu Sans Mono',consolas,'Courier New',monospace\">(0, 1, 0, 2, 1, 0)\n",
       "</pre>\n"
      ],
      "text/plain": [
       "(0, 1, 0, 2, 1, 0)\n"
      ]
     },
     "metadata": {},
     "output_type": "display_data"
    },
    {
     "data": {
      "text/html": [
       "<pre style=\"white-space:pre;overflow-x:auto;line-height:normal;font-family:Menlo,'DejaVu Sans Mono',consolas,'Courier New',monospace\">(0, 1, 0, 2, 1, 1)\n",
       "</pre>\n"
      ],
      "text/plain": [
       "(0, 1, 0, 2, 1, 1)\n"
      ]
     },
     "metadata": {},
     "output_type": "display_data"
    },
    {
     "data": {
      "text/html": [
       "<pre style=\"white-space:pre;overflow-x:auto;line-height:normal;font-family:Menlo,'DejaVu Sans Mono',consolas,'Courier New',monospace\">(0, 1, 0, 2, 1, 2)\n",
       "</pre>\n"
      ],
      "text/plain": [
       "(0, 1, 0, 2, 1, 2)\n"
      ]
     },
     "metadata": {},
     "output_type": "display_data"
    },
    {
     "data": {
      "text/html": [
       "<pre style=\"white-space:pre;overflow-x:auto;line-height:normal;font-family:Menlo,'DejaVu Sans Mono',consolas,'Courier New',monospace\">(0, 1, 0, 2, 1, 3)\n",
       "</pre>\n"
      ],
      "text/plain": [
       "(0, 1, 0, 2, 1, 3)\n"
      ]
     },
     "metadata": {},
     "output_type": "display_data"
    },
    {
     "data": {
      "text/html": [
       "<pre style=\"white-space:pre;overflow-x:auto;line-height:normal;font-family:Menlo,'DejaVu Sans Mono',consolas,'Courier New',monospace\">(0, 1, 0, 3, 1, 0)\n",
       "</pre>\n"
      ],
      "text/plain": [
       "(0, 1, 0, 3, 1, 0)\n"
      ]
     },
     "metadata": {},
     "output_type": "display_data"
    },
    {
     "data": {
      "text/html": [
       "<pre style=\"white-space:pre;overflow-x:auto;line-height:normal;font-family:Menlo,'DejaVu Sans Mono',consolas,'Courier New',monospace\">(0, 1, 0, 3, 1, 1)\n",
       "</pre>\n"
      ],
      "text/plain": [
       "(0, 1, 0, 3, 1, 1)\n"
      ]
     },
     "metadata": {},
     "output_type": "display_data"
    },
    {
     "data": {
      "text/html": [
       "<pre style=\"white-space:pre;overflow-x:auto;line-height:normal;font-family:Menlo,'DejaVu Sans Mono',consolas,'Courier New',monospace\">(0, 1, 0, 3, 1, 2)\n",
       "</pre>\n"
      ],
      "text/plain": [
       "(0, 1, 0, 3, 1, 2)\n"
      ]
     },
     "metadata": {},
     "output_type": "display_data"
    },
    {
     "data": {
      "text/html": [
       "<pre style=\"white-space:pre;overflow-x:auto;line-height:normal;font-family:Menlo,'DejaVu Sans Mono',consolas,'Courier New',monospace\">(0, 1, 0, 3, 1, 3)\n",
       "</pre>\n"
      ],
      "text/plain": [
       "(0, 1, 0, 3, 1, 3)\n"
      ]
     },
     "metadata": {},
     "output_type": "display_data"
    },
    {
     "data": {
      "text/html": [
       "<pre style=\"white-space:pre;overflow-x:auto;line-height:normal;font-family:Menlo,'DejaVu Sans Mono',consolas,'Courier New',monospace\">(0, 1, 1, 0, 1, 0)\n",
       "</pre>\n"
      ],
      "text/plain": [
       "(0, 1, 1, 0, 1, 0)\n"
      ]
     },
     "metadata": {},
     "output_type": "display_data"
    },
    {
     "data": {
      "text/html": [
       "<pre style=\"white-space:pre;overflow-x:auto;line-height:normal;font-family:Menlo,'DejaVu Sans Mono',consolas,'Courier New',monospace\">(0, 1, 1, 0, 1, 1)\n",
       "</pre>\n"
      ],
      "text/plain": [
       "(0, 1, 1, 0, 1, 1)\n"
      ]
     },
     "metadata": {},
     "output_type": "display_data"
    },
    {
     "data": {
      "text/html": [
       "<pre style=\"white-space:pre;overflow-x:auto;line-height:normal;font-family:Menlo,'DejaVu Sans Mono',consolas,'Courier New',monospace\">(0, 1, 1, 0, 1, 2)\n",
       "</pre>\n"
      ],
      "text/plain": [
       "(0, 1, 1, 0, 1, 2)\n"
      ]
     },
     "metadata": {},
     "output_type": "display_data"
    },
    {
     "data": {
      "text/html": [
       "<pre style=\"white-space:pre;overflow-x:auto;line-height:normal;font-family:Menlo,'DejaVu Sans Mono',consolas,'Courier New',monospace\">(0, 1, 1, 0, 1, 3)\n",
       "</pre>\n"
      ],
      "text/plain": [
       "(0, 1, 1, 0, 1, 3)\n"
      ]
     },
     "metadata": {},
     "output_type": "display_data"
    },
    {
     "data": {
      "text/html": [
       "<pre style=\"white-space:pre;overflow-x:auto;line-height:normal;font-family:Menlo,'DejaVu Sans Mono',consolas,'Courier New',monospace\">(0, 1, 1, 1, 1, 0)\n",
       "</pre>\n"
      ],
      "text/plain": [
       "(0, 1, 1, 1, 1, 0)\n"
      ]
     },
     "metadata": {},
     "output_type": "display_data"
    },
    {
     "data": {
      "text/html": [
       "<pre style=\"white-space:pre;overflow-x:auto;line-height:normal;font-family:Menlo,'DejaVu Sans Mono',consolas,'Courier New',monospace\">(0, 1, 1, 1, 1, 1)\n",
       "</pre>\n"
      ],
      "text/plain": [
       "(0, 1, 1, 1, 1, 1)\n"
      ]
     },
     "metadata": {},
     "output_type": "display_data"
    },
    {
     "data": {
      "text/html": [
       "<pre style=\"white-space:pre;overflow-x:auto;line-height:normal;font-family:Menlo,'DejaVu Sans Mono',consolas,'Courier New',monospace\">(0, 1, 1, 1, 1, 2)\n",
       "</pre>\n"
      ],
      "text/plain": [
       "(0, 1, 1, 1, 1, 2)\n"
      ]
     },
     "metadata": {},
     "output_type": "display_data"
    },
    {
     "data": {
      "text/html": [
       "<pre style=\"white-space:pre;overflow-x:auto;line-height:normal;font-family:Menlo,'DejaVu Sans Mono',consolas,'Courier New',monospace\">(0, 1, 1, 1, 1, 3)\n",
       "</pre>\n"
      ],
      "text/plain": [
       "(0, 1, 1, 1, 1, 3)\n"
      ]
     },
     "metadata": {},
     "output_type": "display_data"
    },
    {
     "data": {
      "text/html": [
       "<pre style=\"white-space:pre;overflow-x:auto;line-height:normal;font-family:Menlo,'DejaVu Sans Mono',consolas,'Courier New',monospace\">(0, 1, 1, 2, 1, 0)\n",
       "</pre>\n"
      ],
      "text/plain": [
       "(0, 1, 1, 2, 1, 0)\n"
      ]
     },
     "metadata": {},
     "output_type": "display_data"
    },
    {
     "data": {
      "text/html": [
       "<pre style=\"white-space:pre;overflow-x:auto;line-height:normal;font-family:Menlo,'DejaVu Sans Mono',consolas,'Courier New',monospace\">(0, 1, 1, 2, 1, 1)\n",
       "</pre>\n"
      ],
      "text/plain": [
       "(0, 1, 1, 2, 1, 1)\n"
      ]
     },
     "metadata": {},
     "output_type": "display_data"
    },
    {
     "data": {
      "text/html": [
       "<pre style=\"white-space:pre;overflow-x:auto;line-height:normal;font-family:Menlo,'DejaVu Sans Mono',consolas,'Courier New',monospace\">(0, 1, 1, 2, 1, 2)\n",
       "</pre>\n"
      ],
      "text/plain": [
       "(0, 1, 1, 2, 1, 2)\n"
      ]
     },
     "metadata": {},
     "output_type": "display_data"
    },
    {
     "data": {
      "text/html": [
       "<pre style=\"white-space:pre;overflow-x:auto;line-height:normal;font-family:Menlo,'DejaVu Sans Mono',consolas,'Courier New',monospace\">(0, 1, 1, 2, 1, 3)\n",
       "</pre>\n"
      ],
      "text/plain": [
       "(0, 1, 1, 2, 1, 3)\n"
      ]
     },
     "metadata": {},
     "output_type": "display_data"
    },
    {
     "data": {
      "text/html": [
       "<pre style=\"white-space:pre;overflow-x:auto;line-height:normal;font-family:Menlo,'DejaVu Sans Mono',consolas,'Courier New',monospace\">(0, 1, 1, 3, 1, 0)\n",
       "</pre>\n"
      ],
      "text/plain": [
       "(0, 1, 1, 3, 1, 0)\n"
      ]
     },
     "metadata": {},
     "output_type": "display_data"
    },
    {
     "data": {
      "text/html": [
       "<pre style=\"white-space:pre;overflow-x:auto;line-height:normal;font-family:Menlo,'DejaVu Sans Mono',consolas,'Courier New',monospace\">(0, 1, 1, 3, 1, 1)\n",
       "</pre>\n"
      ],
      "text/plain": [
       "(0, 1, 1, 3, 1, 1)\n"
      ]
     },
     "metadata": {},
     "output_type": "display_data"
    },
    {
     "data": {
      "text/html": [
       "<pre style=\"white-space:pre;overflow-x:auto;line-height:normal;font-family:Menlo,'DejaVu Sans Mono',consolas,'Courier New',monospace\">(0, 1, 1, 3, 1, 2)\n",
       "</pre>\n"
      ],
      "text/plain": [
       "(0, 1, 1, 3, 1, 2)\n"
      ]
     },
     "metadata": {},
     "output_type": "display_data"
    },
    {
     "data": {
      "text/html": [
       "<pre style=\"white-space:pre;overflow-x:auto;line-height:normal;font-family:Menlo,'DejaVu Sans Mono',consolas,'Courier New',monospace\">(0, 1, 1, 3, 1, 3)\n",
       "</pre>\n"
      ],
      "text/plain": [
       "(0, 1, 1, 3, 1, 3)\n"
      ]
     },
     "metadata": {},
     "output_type": "display_data"
    },
    {
     "data": {
      "text/html": [
       "<pre style=\"white-space:pre;overflow-x:auto;line-height:normal;font-family:Menlo,'DejaVu Sans Mono',consolas,'Courier New',monospace\">(0, 1, 2, 0, 1, 0)\n",
       "</pre>\n"
      ],
      "text/plain": [
       "(0, 1, 2, 0, 1, 0)\n"
      ]
     },
     "metadata": {},
     "output_type": "display_data"
    },
    {
     "data": {
      "text/html": [
       "<pre style=\"white-space:pre;overflow-x:auto;line-height:normal;font-family:Menlo,'DejaVu Sans Mono',consolas,'Courier New',monospace\">(0, 1, 2, 0, 1, 1)\n",
       "</pre>\n"
      ],
      "text/plain": [
       "(0, 1, 2, 0, 1, 1)\n"
      ]
     },
     "metadata": {},
     "output_type": "display_data"
    },
    {
     "data": {
      "text/html": [
       "<pre style=\"white-space:pre;overflow-x:auto;line-height:normal;font-family:Menlo,'DejaVu Sans Mono',consolas,'Courier New',monospace\">(0, 1, 2, 0, 1, 2)\n",
       "</pre>\n"
      ],
      "text/plain": [
       "(0, 1, 2, 0, 1, 2)\n"
      ]
     },
     "metadata": {},
     "output_type": "display_data"
    },
    {
     "data": {
      "text/html": [
       "<pre style=\"white-space:pre;overflow-x:auto;line-height:normal;font-family:Menlo,'DejaVu Sans Mono',consolas,'Courier New',monospace\">(0, 1, 2, 0, 1, 3)\n",
       "</pre>\n"
      ],
      "text/plain": [
       "(0, 1, 2, 0, 1, 3)\n"
      ]
     },
     "metadata": {},
     "output_type": "display_data"
    },
    {
     "data": {
      "text/html": [
       "<pre style=\"white-space:pre;overflow-x:auto;line-height:normal;font-family:Menlo,'DejaVu Sans Mono',consolas,'Courier New',monospace\">(0, 1, 2, 1, 1, 0)\n",
       "</pre>\n"
      ],
      "text/plain": [
       "(0, 1, 2, 1, 1, 0)\n"
      ]
     },
     "metadata": {},
     "output_type": "display_data"
    },
    {
     "data": {
      "text/html": [
       "<pre style=\"white-space:pre;overflow-x:auto;line-height:normal;font-family:Menlo,'DejaVu Sans Mono',consolas,'Courier New',monospace\">(0, 1, 2, 1, 1, 1)\n",
       "</pre>\n"
      ],
      "text/plain": [
       "(0, 1, 2, 1, 1, 1)\n"
      ]
     },
     "metadata": {},
     "output_type": "display_data"
    },
    {
     "data": {
      "text/html": [
       "<pre style=\"white-space:pre;overflow-x:auto;line-height:normal;font-family:Menlo,'DejaVu Sans Mono',consolas,'Courier New',monospace\">(0, 1, 2, 1, 1, 2)\n",
       "</pre>\n"
      ],
      "text/plain": [
       "(0, 1, 2, 1, 1, 2)\n"
      ]
     },
     "metadata": {},
     "output_type": "display_data"
    },
    {
     "data": {
      "text/html": [
       "<pre style=\"white-space:pre;overflow-x:auto;line-height:normal;font-family:Menlo,'DejaVu Sans Mono',consolas,'Courier New',monospace\">(0, 1, 2, 1, 1, 3)\n",
       "</pre>\n"
      ],
      "text/plain": [
       "(0, 1, 2, 1, 1, 3)\n"
      ]
     },
     "metadata": {},
     "output_type": "display_data"
    },
    {
     "data": {
      "text/html": [
       "<pre style=\"white-space:pre;overflow-x:auto;line-height:normal;font-family:Menlo,'DejaVu Sans Mono',consolas,'Courier New',monospace\">(0, 1, 2, 2, 1, 0)\n",
       "</pre>\n"
      ],
      "text/plain": [
       "(0, 1, 2, 2, 1, 0)\n"
      ]
     },
     "metadata": {},
     "output_type": "display_data"
    },
    {
     "data": {
      "text/html": [
       "<pre style=\"white-space:pre;overflow-x:auto;line-height:normal;font-family:Menlo,'DejaVu Sans Mono',consolas,'Courier New',monospace\">(0, 1, 2, 2, 1, 1)\n",
       "</pre>\n"
      ],
      "text/plain": [
       "(0, 1, 2, 2, 1, 1)\n"
      ]
     },
     "metadata": {},
     "output_type": "display_data"
    },
    {
     "data": {
      "text/html": [
       "<pre style=\"white-space:pre;overflow-x:auto;line-height:normal;font-family:Menlo,'DejaVu Sans Mono',consolas,'Courier New',monospace\">(0, 1, 2, 2, 1, 2)\n",
       "</pre>\n"
      ],
      "text/plain": [
       "(0, 1, 2, 2, 1, 2)\n"
      ]
     },
     "metadata": {},
     "output_type": "display_data"
    },
    {
     "data": {
      "text/html": [
       "<pre style=\"white-space:pre;overflow-x:auto;line-height:normal;font-family:Menlo,'DejaVu Sans Mono',consolas,'Courier New',monospace\">(0, 1, 2, 2, 1, 3)\n",
       "</pre>\n"
      ],
      "text/plain": [
       "(0, 1, 2, 2, 1, 3)\n"
      ]
     },
     "metadata": {},
     "output_type": "display_data"
    },
    {
     "data": {
      "text/html": [
       "<pre style=\"white-space:pre;overflow-x:auto;line-height:normal;font-family:Menlo,'DejaVu Sans Mono',consolas,'Courier New',monospace\">(0, 1, 2, 3, 1, 0)\n",
       "</pre>\n"
      ],
      "text/plain": [
       "(0, 1, 2, 3, 1, 0)\n"
      ]
     },
     "metadata": {},
     "output_type": "display_data"
    },
    {
     "data": {
      "text/html": [
       "<pre style=\"white-space:pre;overflow-x:auto;line-height:normal;font-family:Menlo,'DejaVu Sans Mono',consolas,'Courier New',monospace\">(0, 1, 2, 3, 1, 1)\n",
       "</pre>\n"
      ],
      "text/plain": [
       "(0, 1, 2, 3, 1, 1)\n"
      ]
     },
     "metadata": {},
     "output_type": "display_data"
    },
    {
     "data": {
      "text/html": [
       "<pre style=\"white-space:pre;overflow-x:auto;line-height:normal;font-family:Menlo,'DejaVu Sans Mono',consolas,'Courier New',monospace\">(0, 1, 2, 3, 1, 2)\n",
       "</pre>\n"
      ],
      "text/plain": [
       "(0, 1, 2, 3, 1, 2)\n"
      ]
     },
     "metadata": {},
     "output_type": "display_data"
    },
    {
     "data": {
      "text/html": [
       "<pre style=\"white-space:pre;overflow-x:auto;line-height:normal;font-family:Menlo,'DejaVu Sans Mono',consolas,'Courier New',monospace\">(0, 1, 2, 3, 1, 3)\n",
       "</pre>\n"
      ],
      "text/plain": [
       "(0, 1, 2, 3, 1, 3)\n"
      ]
     },
     "metadata": {},
     "output_type": "display_data"
    },
    {
     "data": {
      "text/html": [
       "<pre style=\"white-space:pre;overflow-x:auto;line-height:normal;font-family:Menlo,'DejaVu Sans Mono',consolas,'Courier New',monospace\">(0, 1, 3, 0, 1, 0)\n",
       "</pre>\n"
      ],
      "text/plain": [
       "(0, 1, 3, 0, 1, 0)\n"
      ]
     },
     "metadata": {},
     "output_type": "display_data"
    },
    {
     "data": {
      "text/html": [
       "<pre style=\"white-space:pre;overflow-x:auto;line-height:normal;font-family:Menlo,'DejaVu Sans Mono',consolas,'Courier New',monospace\">(0, 1, 3, 0, 1, 1)\n",
       "</pre>\n"
      ],
      "text/plain": [
       "(0, 1, 3, 0, 1, 1)\n"
      ]
     },
     "metadata": {},
     "output_type": "display_data"
    },
    {
     "data": {
      "text/html": [
       "<pre style=\"white-space:pre;overflow-x:auto;line-height:normal;font-family:Menlo,'DejaVu Sans Mono',consolas,'Courier New',monospace\">(0, 1, 3, 0, 1, 2)\n",
       "</pre>\n"
      ],
      "text/plain": [
       "(0, 1, 3, 0, 1, 2)\n"
      ]
     },
     "metadata": {},
     "output_type": "display_data"
    },
    {
     "data": {
      "text/html": [
       "<pre style=\"white-space:pre;overflow-x:auto;line-height:normal;font-family:Menlo,'DejaVu Sans Mono',consolas,'Courier New',monospace\">(0, 1, 3, 0, 1, 3)\n",
       "</pre>\n"
      ],
      "text/plain": [
       "(0, 1, 3, 0, 1, 3)\n"
      ]
     },
     "metadata": {},
     "output_type": "display_data"
    },
    {
     "data": {
      "text/html": [
       "<pre style=\"white-space:pre;overflow-x:auto;line-height:normal;font-family:Menlo,'DejaVu Sans Mono',consolas,'Courier New',monospace\">(0, 1, 3, 1, 1, 0)\n",
       "</pre>\n"
      ],
      "text/plain": [
       "(0, 1, 3, 1, 1, 0)\n"
      ]
     },
     "metadata": {},
     "output_type": "display_data"
    },
    {
     "data": {
      "text/html": [
       "<pre style=\"white-space:pre;overflow-x:auto;line-height:normal;font-family:Menlo,'DejaVu Sans Mono',consolas,'Courier New',monospace\">(0, 1, 3, 1, 1, 1)\n",
       "</pre>\n"
      ],
      "text/plain": [
       "(0, 1, 3, 1, 1, 1)\n"
      ]
     },
     "metadata": {},
     "output_type": "display_data"
    },
    {
     "data": {
      "text/html": [
       "<pre style=\"white-space:pre;overflow-x:auto;line-height:normal;font-family:Menlo,'DejaVu Sans Mono',consolas,'Courier New',monospace\">(0, 1, 3, 1, 1, 2)\n",
       "</pre>\n"
      ],
      "text/plain": [
       "(0, 1, 3, 1, 1, 2)\n"
      ]
     },
     "metadata": {},
     "output_type": "display_data"
    },
    {
     "data": {
      "text/html": [
       "<pre style=\"white-space:pre;overflow-x:auto;line-height:normal;font-family:Menlo,'DejaVu Sans Mono',consolas,'Courier New',monospace\">(0, 1, 3, 1, 1, 3)\n",
       "</pre>\n"
      ],
      "text/plain": [
       "(0, 1, 3, 1, 1, 3)\n"
      ]
     },
     "metadata": {},
     "output_type": "display_data"
    },
    {
     "data": {
      "text/html": [
       "<pre style=\"white-space:pre;overflow-x:auto;line-height:normal;font-family:Menlo,'DejaVu Sans Mono',consolas,'Courier New',monospace\">(0, 1, 3, 2, 1, 0)\n",
       "</pre>\n"
      ],
      "text/plain": [
       "(0, 1, 3, 2, 1, 0)\n"
      ]
     },
     "metadata": {},
     "output_type": "display_data"
    },
    {
     "data": {
      "text/html": [
       "<pre style=\"white-space:pre;overflow-x:auto;line-height:normal;font-family:Menlo,'DejaVu Sans Mono',consolas,'Courier New',monospace\">(0, 1, 3, 2, 1, 1)\n",
       "</pre>\n"
      ],
      "text/plain": [
       "(0, 1, 3, 2, 1, 1)\n"
      ]
     },
     "metadata": {},
     "output_type": "display_data"
    },
    {
     "data": {
      "text/html": [
       "<pre style=\"white-space:pre;overflow-x:auto;line-height:normal;font-family:Menlo,'DejaVu Sans Mono',consolas,'Courier New',monospace\">(0, 1, 3, 2, 1, 2)\n",
       "</pre>\n"
      ],
      "text/plain": [
       "(0, 1, 3, 2, 1, 2)\n"
      ]
     },
     "metadata": {},
     "output_type": "display_data"
    },
    {
     "data": {
      "text/html": [
       "<pre style=\"white-space:pre;overflow-x:auto;line-height:normal;font-family:Menlo,'DejaVu Sans Mono',consolas,'Courier New',monospace\">(0, 1, 3, 2, 1, 3)\n",
       "</pre>\n"
      ],
      "text/plain": [
       "(0, 1, 3, 2, 1, 3)\n"
      ]
     },
     "metadata": {},
     "output_type": "display_data"
    },
    {
     "data": {
      "text/html": [
       "<pre style=\"white-space:pre;overflow-x:auto;line-height:normal;font-family:Menlo,'DejaVu Sans Mono',consolas,'Courier New',monospace\">(0, 1, 3, 3, 1, 0)\n",
       "</pre>\n"
      ],
      "text/plain": [
       "(0, 1, 3, 3, 1, 0)\n"
      ]
     },
     "metadata": {},
     "output_type": "display_data"
    },
    {
     "data": {
      "text/html": [
       "<pre style=\"white-space:pre;overflow-x:auto;line-height:normal;font-family:Menlo,'DejaVu Sans Mono',consolas,'Courier New',monospace\">(0, 1, 3, 3, 1, 1)\n",
       "</pre>\n"
      ],
      "text/plain": [
       "(0, 1, 3, 3, 1, 1)\n"
      ]
     },
     "metadata": {},
     "output_type": "display_data"
    },
    {
     "data": {
      "text/html": [
       "<pre style=\"white-space:pre;overflow-x:auto;line-height:normal;font-family:Menlo,'DejaVu Sans Mono',consolas,'Courier New',monospace\">(0, 1, 3, 3, 1, 2)\n",
       "</pre>\n"
      ],
      "text/plain": [
       "(0, 1, 3, 3, 1, 2)\n"
      ]
     },
     "metadata": {},
     "output_type": "display_data"
    },
    {
     "data": {
      "text/html": [
       "<pre style=\"white-space:pre;overflow-x:auto;line-height:normal;font-family:Menlo,'DejaVu Sans Mono',consolas,'Courier New',monospace\">(0, 1, 3, 3, 1, 3)\n",
       "</pre>\n"
      ],
      "text/plain": [
       "(0, 1, 3, 3, 1, 3)\n"
      ]
     },
     "metadata": {},
     "output_type": "display_data"
    },
    {
     "data": {
      "text/html": [
       "<pre style=\"white-space:pre;overflow-x:auto;line-height:normal;font-family:Menlo,'DejaVu Sans Mono',consolas,'Courier New',monospace\">(1, 1, 0, 0, 1, 0)\n",
       "</pre>\n"
      ],
      "text/plain": [
       "(1, 1, 0, 0, 1, 0)\n"
      ]
     },
     "metadata": {},
     "output_type": "display_data"
    },
    {
     "data": {
      "text/html": [
       "<pre style=\"white-space:pre;overflow-x:auto;line-height:normal;font-family:Menlo,'DejaVu Sans Mono',consolas,'Courier New',monospace\">(1, 1, 0, 0, 1, 1)\n",
       "</pre>\n"
      ],
      "text/plain": [
       "(1, 1, 0, 0, 1, 1)\n"
      ]
     },
     "metadata": {},
     "output_type": "display_data"
    },
    {
     "data": {
      "text/html": [
       "<pre style=\"white-space:pre;overflow-x:auto;line-height:normal;font-family:Menlo,'DejaVu Sans Mono',consolas,'Courier New',monospace\">(1, 1, 0, 0, 1, 2)\n",
       "</pre>\n"
      ],
      "text/plain": [
       "(1, 1, 0, 0, 1, 2)\n"
      ]
     },
     "metadata": {},
     "output_type": "display_data"
    },
    {
     "data": {
      "text/html": [
       "<pre style=\"white-space:pre;overflow-x:auto;line-height:normal;font-family:Menlo,'DejaVu Sans Mono',consolas,'Courier New',monospace\">(1, 1, 0, 0, 1, 3)\n",
       "</pre>\n"
      ],
      "text/plain": [
       "(1, 1, 0, 0, 1, 3)\n"
      ]
     },
     "metadata": {},
     "output_type": "display_data"
    },
    {
     "data": {
      "text/html": [
       "<pre style=\"white-space:pre;overflow-x:auto;line-height:normal;font-family:Menlo,'DejaVu Sans Mono',consolas,'Courier New',monospace\">(1, 1, 0, 1, 1, 0)\n",
       "</pre>\n"
      ],
      "text/plain": [
       "(1, 1, 0, 1, 1, 0)\n"
      ]
     },
     "metadata": {},
     "output_type": "display_data"
    },
    {
     "data": {
      "text/html": [
       "<pre style=\"white-space:pre;overflow-x:auto;line-height:normal;font-family:Menlo,'DejaVu Sans Mono',consolas,'Courier New',monospace\">(1, 1, 0, 1, 1, 1)\n",
       "</pre>\n"
      ],
      "text/plain": [
       "(1, 1, 0, 1, 1, 1)\n"
      ]
     },
     "metadata": {},
     "output_type": "display_data"
    },
    {
     "data": {
      "text/html": [
       "<pre style=\"white-space:pre;overflow-x:auto;line-height:normal;font-family:Menlo,'DejaVu Sans Mono',consolas,'Courier New',monospace\">(1, 1, 0, 1, 1, 2)\n",
       "</pre>\n"
      ],
      "text/plain": [
       "(1, 1, 0, 1, 1, 2)\n"
      ]
     },
     "metadata": {},
     "output_type": "display_data"
    },
    {
     "data": {
      "text/html": [
       "<pre style=\"white-space:pre;overflow-x:auto;line-height:normal;font-family:Menlo,'DejaVu Sans Mono',consolas,'Courier New',monospace\">(1, 1, 0, 1, 1, 3)\n",
       "</pre>\n"
      ],
      "text/plain": [
       "(1, 1, 0, 1, 1, 3)\n"
      ]
     },
     "metadata": {},
     "output_type": "display_data"
    },
    {
     "data": {
      "text/html": [
       "<pre style=\"white-space:pre;overflow-x:auto;line-height:normal;font-family:Menlo,'DejaVu Sans Mono',consolas,'Courier New',monospace\">(1, 1, 0, 2, 1, 0)\n",
       "</pre>\n"
      ],
      "text/plain": [
       "(1, 1, 0, 2, 1, 0)\n"
      ]
     },
     "metadata": {},
     "output_type": "display_data"
    },
    {
     "data": {
      "text/html": [
       "<pre style=\"white-space:pre;overflow-x:auto;line-height:normal;font-family:Menlo,'DejaVu Sans Mono',consolas,'Courier New',monospace\">(1, 1, 0, 2, 1, 1)\n",
       "</pre>\n"
      ],
      "text/plain": [
       "(1, 1, 0, 2, 1, 1)\n"
      ]
     },
     "metadata": {},
     "output_type": "display_data"
    },
    {
     "data": {
      "text/html": [
       "<pre style=\"white-space:pre;overflow-x:auto;line-height:normal;font-family:Menlo,'DejaVu Sans Mono',consolas,'Courier New',monospace\">(1, 1, 0, 2, 1, 2)\n",
       "</pre>\n"
      ],
      "text/plain": [
       "(1, 1, 0, 2, 1, 2)\n"
      ]
     },
     "metadata": {},
     "output_type": "display_data"
    },
    {
     "data": {
      "text/html": [
       "<pre style=\"white-space:pre;overflow-x:auto;line-height:normal;font-family:Menlo,'DejaVu Sans Mono',consolas,'Courier New',monospace\">(1, 1, 0, 2, 1, 3)\n",
       "</pre>\n"
      ],
      "text/plain": [
       "(1, 1, 0, 2, 1, 3)\n"
      ]
     },
     "metadata": {},
     "output_type": "display_data"
    },
    {
     "data": {
      "text/html": [
       "<pre style=\"white-space:pre;overflow-x:auto;line-height:normal;font-family:Menlo,'DejaVu Sans Mono',consolas,'Courier New',monospace\">(1, 1, 0, 3, 1, 0)\n",
       "</pre>\n"
      ],
      "text/plain": [
       "(1, 1, 0, 3, 1, 0)\n"
      ]
     },
     "metadata": {},
     "output_type": "display_data"
    },
    {
     "data": {
      "text/html": [
       "<pre style=\"white-space:pre;overflow-x:auto;line-height:normal;font-family:Menlo,'DejaVu Sans Mono',consolas,'Courier New',monospace\">(1, 1, 0, 3, 1, 1)\n",
       "</pre>\n"
      ],
      "text/plain": [
       "(1, 1, 0, 3, 1, 1)\n"
      ]
     },
     "metadata": {},
     "output_type": "display_data"
    },
    {
     "data": {
      "text/html": [
       "<pre style=\"white-space:pre;overflow-x:auto;line-height:normal;font-family:Menlo,'DejaVu Sans Mono',consolas,'Courier New',monospace\">(1, 1, 0, 3, 1, 2)\n",
       "</pre>\n"
      ],
      "text/plain": [
       "(1, 1, 0, 3, 1, 2)\n"
      ]
     },
     "metadata": {},
     "output_type": "display_data"
    },
    {
     "data": {
      "text/html": [
       "<pre style=\"white-space:pre;overflow-x:auto;line-height:normal;font-family:Menlo,'DejaVu Sans Mono',consolas,'Courier New',monospace\">(1, 1, 0, 3, 1, 3)\n",
       "</pre>\n"
      ],
      "text/plain": [
       "(1, 1, 0, 3, 1, 3)\n"
      ]
     },
     "metadata": {},
     "output_type": "display_data"
    },
    {
     "data": {
      "text/html": [
       "<pre style=\"white-space:pre;overflow-x:auto;line-height:normal;font-family:Menlo,'DejaVu Sans Mono',consolas,'Courier New',monospace\">(1, 1, 1, 0, 1, 0)\n",
       "</pre>\n"
      ],
      "text/plain": [
       "(1, 1, 1, 0, 1, 0)\n"
      ]
     },
     "metadata": {},
     "output_type": "display_data"
    },
    {
     "data": {
      "text/html": [
       "<pre style=\"white-space:pre;overflow-x:auto;line-height:normal;font-family:Menlo,'DejaVu Sans Mono',consolas,'Courier New',monospace\">(1, 1, 1, 0, 1, 1)\n",
       "</pre>\n"
      ],
      "text/plain": [
       "(1, 1, 1, 0, 1, 1)\n"
      ]
     },
     "metadata": {},
     "output_type": "display_data"
    },
    {
     "data": {
      "text/html": [
       "<pre style=\"white-space:pre;overflow-x:auto;line-height:normal;font-family:Menlo,'DejaVu Sans Mono',consolas,'Courier New',monospace\">(1, 1, 1, 0, 1, 2)\n",
       "</pre>\n"
      ],
      "text/plain": [
       "(1, 1, 1, 0, 1, 2)\n"
      ]
     },
     "metadata": {},
     "output_type": "display_data"
    },
    {
     "data": {
      "text/html": [
       "<pre style=\"white-space:pre;overflow-x:auto;line-height:normal;font-family:Menlo,'DejaVu Sans Mono',consolas,'Courier New',monospace\">(1, 1, 1, 0, 1, 3)\n",
       "</pre>\n"
      ],
      "text/plain": [
       "(1, 1, 1, 0, 1, 3)\n"
      ]
     },
     "metadata": {},
     "output_type": "display_data"
    },
    {
     "data": {
      "text/html": [
       "<pre style=\"white-space:pre;overflow-x:auto;line-height:normal;font-family:Menlo,'DejaVu Sans Mono',consolas,'Courier New',monospace\">(1, 1, 1, 1, 1, 0)\n",
       "</pre>\n"
      ],
      "text/plain": [
       "(1, 1, 1, 1, 1, 0)\n"
      ]
     },
     "metadata": {},
     "output_type": "display_data"
    },
    {
     "data": {
      "text/html": [
       "<pre style=\"white-space:pre;overflow-x:auto;line-height:normal;font-family:Menlo,'DejaVu Sans Mono',consolas,'Courier New',monospace\">(1, 1, 1, 1, 1, 1)\n",
       "</pre>\n"
      ],
      "text/plain": [
       "(1, 1, 1, 1, 1, 1)\n"
      ]
     },
     "metadata": {},
     "output_type": "display_data"
    },
    {
     "data": {
      "text/html": [
       "<pre style=\"white-space:pre;overflow-x:auto;line-height:normal;font-family:Menlo,'DejaVu Sans Mono',consolas,'Courier New',monospace\">(1, 1, 1, 1, 1, 2)\n",
       "</pre>\n"
      ],
      "text/plain": [
       "(1, 1, 1, 1, 1, 2)\n"
      ]
     },
     "metadata": {},
     "output_type": "display_data"
    },
    {
     "data": {
      "text/html": [
       "<pre style=\"white-space:pre;overflow-x:auto;line-height:normal;font-family:Menlo,'DejaVu Sans Mono',consolas,'Courier New',monospace\">(1, 1, 1, 1, 1, 3)\n",
       "</pre>\n"
      ],
      "text/plain": [
       "(1, 1, 1, 1, 1, 3)\n"
      ]
     },
     "metadata": {},
     "output_type": "display_data"
    },
    {
     "data": {
      "text/html": [
       "<pre style=\"white-space:pre;overflow-x:auto;line-height:normal;font-family:Menlo,'DejaVu Sans Mono',consolas,'Courier New',monospace\">(1, 1, 1, 2, 1, 0)\n",
       "</pre>\n"
      ],
      "text/plain": [
       "(1, 1, 1, 2, 1, 0)\n"
      ]
     },
     "metadata": {},
     "output_type": "display_data"
    },
    {
     "data": {
      "text/html": [
       "<pre style=\"white-space:pre;overflow-x:auto;line-height:normal;font-family:Menlo,'DejaVu Sans Mono',consolas,'Courier New',monospace\">(1, 1, 1, 2, 1, 1)\n",
       "</pre>\n"
      ],
      "text/plain": [
       "(1, 1, 1, 2, 1, 1)\n"
      ]
     },
     "metadata": {},
     "output_type": "display_data"
    },
    {
     "data": {
      "text/html": [
       "<pre style=\"white-space:pre;overflow-x:auto;line-height:normal;font-family:Menlo,'DejaVu Sans Mono',consolas,'Courier New',monospace\">(1, 1, 1, 2, 1, 2)\n",
       "</pre>\n"
      ],
      "text/plain": [
       "(1, 1, 1, 2, 1, 2)\n"
      ]
     },
     "metadata": {},
     "output_type": "display_data"
    },
    {
     "data": {
      "text/html": [
       "<pre style=\"white-space:pre;overflow-x:auto;line-height:normal;font-family:Menlo,'DejaVu Sans Mono',consolas,'Courier New',monospace\">(1, 1, 1, 2, 1, 3)\n",
       "</pre>\n"
      ],
      "text/plain": [
       "(1, 1, 1, 2, 1, 3)\n"
      ]
     },
     "metadata": {},
     "output_type": "display_data"
    },
    {
     "data": {
      "text/html": [
       "<pre style=\"white-space:pre;overflow-x:auto;line-height:normal;font-family:Menlo,'DejaVu Sans Mono',consolas,'Courier New',monospace\">(1, 1, 1, 3, 1, 0)\n",
       "</pre>\n"
      ],
      "text/plain": [
       "(1, 1, 1, 3, 1, 0)\n"
      ]
     },
     "metadata": {},
     "output_type": "display_data"
    },
    {
     "data": {
      "text/html": [
       "<pre style=\"white-space:pre;overflow-x:auto;line-height:normal;font-family:Menlo,'DejaVu Sans Mono',consolas,'Courier New',monospace\">(1, 1, 1, 3, 1, 1)\n",
       "</pre>\n"
      ],
      "text/plain": [
       "(1, 1, 1, 3, 1, 1)\n"
      ]
     },
     "metadata": {},
     "output_type": "display_data"
    },
    {
     "data": {
      "text/html": [
       "<pre style=\"white-space:pre;overflow-x:auto;line-height:normal;font-family:Menlo,'DejaVu Sans Mono',consolas,'Courier New',monospace\">(1, 1, 1, 3, 1, 2)\n",
       "</pre>\n"
      ],
      "text/plain": [
       "(1, 1, 1, 3, 1, 2)\n"
      ]
     },
     "metadata": {},
     "output_type": "display_data"
    },
    {
     "data": {
      "text/html": [
       "<pre style=\"white-space:pre;overflow-x:auto;line-height:normal;font-family:Menlo,'DejaVu Sans Mono',consolas,'Courier New',monospace\">(1, 1, 1, 3, 1, 3)\n",
       "</pre>\n"
      ],
      "text/plain": [
       "(1, 1, 1, 3, 1, 3)\n"
      ]
     },
     "metadata": {},
     "output_type": "display_data"
    },
    {
     "data": {
      "text/html": [
       "<pre style=\"white-space:pre;overflow-x:auto;line-height:normal;font-family:Menlo,'DejaVu Sans Mono',consolas,'Courier New',monospace\">(1, 1, 2, 0, 1, 0)\n",
       "</pre>\n"
      ],
      "text/plain": [
       "(1, 1, 2, 0, 1, 0)\n"
      ]
     },
     "metadata": {},
     "output_type": "display_data"
    },
    {
     "data": {
      "text/html": [
       "<pre style=\"white-space:pre;overflow-x:auto;line-height:normal;font-family:Menlo,'DejaVu Sans Mono',consolas,'Courier New',monospace\">(1, 1, 2, 0, 1, 1)\n",
       "</pre>\n"
      ],
      "text/plain": [
       "(1, 1, 2, 0, 1, 1)\n"
      ]
     },
     "metadata": {},
     "output_type": "display_data"
    },
    {
     "data": {
      "text/html": [
       "<pre style=\"white-space:pre;overflow-x:auto;line-height:normal;font-family:Menlo,'DejaVu Sans Mono',consolas,'Courier New',monospace\">(1, 1, 2, 0, 1, 2)\n",
       "</pre>\n"
      ],
      "text/plain": [
       "(1, 1, 2, 0, 1, 2)\n"
      ]
     },
     "metadata": {},
     "output_type": "display_data"
    },
    {
     "data": {
      "text/html": [
       "<pre style=\"white-space:pre;overflow-x:auto;line-height:normal;font-family:Menlo,'DejaVu Sans Mono',consolas,'Courier New',monospace\">(1, 1, 2, 0, 1, 3)\n",
       "</pre>\n"
      ],
      "text/plain": [
       "(1, 1, 2, 0, 1, 3)\n"
      ]
     },
     "metadata": {},
     "output_type": "display_data"
    },
    {
     "data": {
      "text/html": [
       "<pre style=\"white-space:pre;overflow-x:auto;line-height:normal;font-family:Menlo,'DejaVu Sans Mono',consolas,'Courier New',monospace\">(1, 1, 2, 1, 1, 0)\n",
       "</pre>\n"
      ],
      "text/plain": [
       "(1, 1, 2, 1, 1, 0)\n"
      ]
     },
     "metadata": {},
     "output_type": "display_data"
    },
    {
     "data": {
      "text/html": [
       "<pre style=\"white-space:pre;overflow-x:auto;line-height:normal;font-family:Menlo,'DejaVu Sans Mono',consolas,'Courier New',monospace\">(1, 1, 2, 1, 1, 1)\n",
       "</pre>\n"
      ],
      "text/plain": [
       "(1, 1, 2, 1, 1, 1)\n"
      ]
     },
     "metadata": {},
     "output_type": "display_data"
    },
    {
     "data": {
      "text/html": [
       "<pre style=\"white-space:pre;overflow-x:auto;line-height:normal;font-family:Menlo,'DejaVu Sans Mono',consolas,'Courier New',monospace\">(1, 1, 2, 1, 1, 2)\n",
       "</pre>\n"
      ],
      "text/plain": [
       "(1, 1, 2, 1, 1, 2)\n"
      ]
     },
     "metadata": {},
     "output_type": "display_data"
    },
    {
     "data": {
      "text/html": [
       "<pre style=\"white-space:pre;overflow-x:auto;line-height:normal;font-family:Menlo,'DejaVu Sans Mono',consolas,'Courier New',monospace\">(1, 1, 2, 1, 1, 3)\n",
       "</pre>\n"
      ],
      "text/plain": [
       "(1, 1, 2, 1, 1, 3)\n"
      ]
     },
     "metadata": {},
     "output_type": "display_data"
    },
    {
     "data": {
      "text/html": [
       "<pre style=\"white-space:pre;overflow-x:auto;line-height:normal;font-family:Menlo,'DejaVu Sans Mono',consolas,'Courier New',monospace\">(1, 1, 2, 2, 1, 0)\n",
       "</pre>\n"
      ],
      "text/plain": [
       "(1, 1, 2, 2, 1, 0)\n"
      ]
     },
     "metadata": {},
     "output_type": "display_data"
    },
    {
     "data": {
      "text/html": [
       "<pre style=\"white-space:pre;overflow-x:auto;line-height:normal;font-family:Menlo,'DejaVu Sans Mono',consolas,'Courier New',monospace\">(1, 1, 2, 2, 1, 1)\n",
       "</pre>\n"
      ],
      "text/plain": [
       "(1, 1, 2, 2, 1, 1)\n"
      ]
     },
     "metadata": {},
     "output_type": "display_data"
    },
    {
     "data": {
      "text/html": [
       "<pre style=\"white-space:pre;overflow-x:auto;line-height:normal;font-family:Menlo,'DejaVu Sans Mono',consolas,'Courier New',monospace\">(1, 1, 2, 2, 1, 2)\n",
       "</pre>\n"
      ],
      "text/plain": [
       "(1, 1, 2, 2, 1, 2)\n"
      ]
     },
     "metadata": {},
     "output_type": "display_data"
    },
    {
     "data": {
      "text/html": [
       "<pre style=\"white-space:pre;overflow-x:auto;line-height:normal;font-family:Menlo,'DejaVu Sans Mono',consolas,'Courier New',monospace\">(1, 1, 2, 2, 1, 3)\n",
       "</pre>\n"
      ],
      "text/plain": [
       "(1, 1, 2, 2, 1, 3)\n"
      ]
     },
     "metadata": {},
     "output_type": "display_data"
    },
    {
     "data": {
      "text/html": [
       "<pre style=\"white-space:pre;overflow-x:auto;line-height:normal;font-family:Menlo,'DejaVu Sans Mono',consolas,'Courier New',monospace\">(1, 1, 2, 3, 1, 0)\n",
       "</pre>\n"
      ],
      "text/plain": [
       "(1, 1, 2, 3, 1, 0)\n"
      ]
     },
     "metadata": {},
     "output_type": "display_data"
    },
    {
     "data": {
      "text/html": [
       "<pre style=\"white-space:pre;overflow-x:auto;line-height:normal;font-family:Menlo,'DejaVu Sans Mono',consolas,'Courier New',monospace\">(1, 1, 2, 3, 1, 1)\n",
       "</pre>\n"
      ],
      "text/plain": [
       "(1, 1, 2, 3, 1, 1)\n"
      ]
     },
     "metadata": {},
     "output_type": "display_data"
    },
    {
     "data": {
      "text/html": [
       "<pre style=\"white-space:pre;overflow-x:auto;line-height:normal;font-family:Menlo,'DejaVu Sans Mono',consolas,'Courier New',monospace\">(1, 1, 2, 3, 1, 2)\n",
       "</pre>\n"
      ],
      "text/plain": [
       "(1, 1, 2, 3, 1, 2)\n"
      ]
     },
     "metadata": {},
     "output_type": "display_data"
    },
    {
     "data": {
      "text/html": [
       "<pre style=\"white-space:pre;overflow-x:auto;line-height:normal;font-family:Menlo,'DejaVu Sans Mono',consolas,'Courier New',monospace\">(1, 1, 2, 3, 1, 3)\n",
       "</pre>\n"
      ],
      "text/plain": [
       "(1, 1, 2, 3, 1, 3)\n"
      ]
     },
     "metadata": {},
     "output_type": "display_data"
    },
    {
     "data": {
      "text/html": [
       "<pre style=\"white-space:pre;overflow-x:auto;line-height:normal;font-family:Menlo,'DejaVu Sans Mono',consolas,'Courier New',monospace\">(1, 1, 3, 0, 1, 0)\n",
       "</pre>\n"
      ],
      "text/plain": [
       "(1, 1, 3, 0, 1, 0)\n"
      ]
     },
     "metadata": {},
     "output_type": "display_data"
    },
    {
     "data": {
      "text/html": [
       "<pre style=\"white-space:pre;overflow-x:auto;line-height:normal;font-family:Menlo,'DejaVu Sans Mono',consolas,'Courier New',monospace\">(1, 1, 3, 0, 1, 1)\n",
       "</pre>\n"
      ],
      "text/plain": [
       "(1, 1, 3, 0, 1, 1)\n"
      ]
     },
     "metadata": {},
     "output_type": "display_data"
    },
    {
     "data": {
      "text/html": [
       "<pre style=\"white-space:pre;overflow-x:auto;line-height:normal;font-family:Menlo,'DejaVu Sans Mono',consolas,'Courier New',monospace\">(1, 1, 3, 0, 1, 2)\n",
       "</pre>\n"
      ],
      "text/plain": [
       "(1, 1, 3, 0, 1, 2)\n"
      ]
     },
     "metadata": {},
     "output_type": "display_data"
    },
    {
     "data": {
      "text/html": [
       "<pre style=\"white-space:pre;overflow-x:auto;line-height:normal;font-family:Menlo,'DejaVu Sans Mono',consolas,'Courier New',monospace\">(1, 1, 3, 0, 1, 3)\n",
       "</pre>\n"
      ],
      "text/plain": [
       "(1, 1, 3, 0, 1, 3)\n"
      ]
     },
     "metadata": {},
     "output_type": "display_data"
    },
    {
     "data": {
      "text/html": [
       "<pre style=\"white-space:pre;overflow-x:auto;line-height:normal;font-family:Menlo,'DejaVu Sans Mono',consolas,'Courier New',monospace\">(1, 1, 3, 1, 1, 0)\n",
       "</pre>\n"
      ],
      "text/plain": [
       "(1, 1, 3, 1, 1, 0)\n"
      ]
     },
     "metadata": {},
     "output_type": "display_data"
    },
    {
     "data": {
      "text/html": [
       "<pre style=\"white-space:pre;overflow-x:auto;line-height:normal;font-family:Menlo,'DejaVu Sans Mono',consolas,'Courier New',monospace\">(1, 1, 3, 1, 1, 1)\n",
       "</pre>\n"
      ],
      "text/plain": [
       "(1, 1, 3, 1, 1, 1)\n"
      ]
     },
     "metadata": {},
     "output_type": "display_data"
    },
    {
     "data": {
      "text/html": [
       "<pre style=\"white-space:pre;overflow-x:auto;line-height:normal;font-family:Menlo,'DejaVu Sans Mono',consolas,'Courier New',monospace\">(1, 1, 3, 1, 1, 2)\n",
       "</pre>\n"
      ],
      "text/plain": [
       "(1, 1, 3, 1, 1, 2)\n"
      ]
     },
     "metadata": {},
     "output_type": "display_data"
    },
    {
     "data": {
      "text/html": [
       "<pre style=\"white-space:pre;overflow-x:auto;line-height:normal;font-family:Menlo,'DejaVu Sans Mono',consolas,'Courier New',monospace\">(1, 1, 3, 1, 1, 3)\n",
       "</pre>\n"
      ],
      "text/plain": [
       "(1, 1, 3, 1, 1, 3)\n"
      ]
     },
     "metadata": {},
     "output_type": "display_data"
    },
    {
     "data": {
      "text/html": [
       "<pre style=\"white-space:pre;overflow-x:auto;line-height:normal;font-family:Menlo,'DejaVu Sans Mono',consolas,'Courier New',monospace\">(1, 1, 3, 2, 1, 0)\n",
       "</pre>\n"
      ],
      "text/plain": [
       "(1, 1, 3, 2, 1, 0)\n"
      ]
     },
     "metadata": {},
     "output_type": "display_data"
    },
    {
     "data": {
      "text/html": [
       "<pre style=\"white-space:pre;overflow-x:auto;line-height:normal;font-family:Menlo,'DejaVu Sans Mono',consolas,'Courier New',monospace\">(1, 1, 3, 2, 1, 1)\n",
       "</pre>\n"
      ],
      "text/plain": [
       "(1, 1, 3, 2, 1, 1)\n"
      ]
     },
     "metadata": {},
     "output_type": "display_data"
    },
    {
     "data": {
      "text/html": [
       "<pre style=\"white-space:pre;overflow-x:auto;line-height:normal;font-family:Menlo,'DejaVu Sans Mono',consolas,'Courier New',monospace\">(1, 1, 3, 2, 1, 2)\n",
       "</pre>\n"
      ],
      "text/plain": [
       "(1, 1, 3, 2, 1, 2)\n"
      ]
     },
     "metadata": {},
     "output_type": "display_data"
    },
    {
     "data": {
      "text/html": [
       "<pre style=\"white-space:pre;overflow-x:auto;line-height:normal;font-family:Menlo,'DejaVu Sans Mono',consolas,'Courier New',monospace\">(1, 1, 3, 2, 1, 3)\n",
       "</pre>\n"
      ],
      "text/plain": [
       "(1, 1, 3, 2, 1, 3)\n"
      ]
     },
     "metadata": {},
     "output_type": "display_data"
    },
    {
     "data": {
      "text/html": [
       "<pre style=\"white-space:pre;overflow-x:auto;line-height:normal;font-family:Menlo,'DejaVu Sans Mono',consolas,'Courier New',monospace\">(1, 1, 3, 3, 1, 0)\n",
       "</pre>\n"
      ],
      "text/plain": [
       "(1, 1, 3, 3, 1, 0)\n"
      ]
     },
     "metadata": {},
     "output_type": "display_data"
    },
    {
     "data": {
      "text/html": [
       "<pre style=\"white-space:pre;overflow-x:auto;line-height:normal;font-family:Menlo,'DejaVu Sans Mono',consolas,'Courier New',monospace\">(1, 1, 3, 3, 1, 1)\n",
       "</pre>\n"
      ],
      "text/plain": [
       "(1, 1, 3, 3, 1, 1)\n"
      ]
     },
     "metadata": {},
     "output_type": "display_data"
    },
    {
     "data": {
      "text/html": [
       "<pre style=\"white-space:pre;overflow-x:auto;line-height:normal;font-family:Menlo,'DejaVu Sans Mono',consolas,'Courier New',monospace\">(1, 1, 3, 3, 1, 2)\n",
       "</pre>\n"
      ],
      "text/plain": [
       "(1, 1, 3, 3, 1, 2)\n"
      ]
     },
     "metadata": {},
     "output_type": "display_data"
    },
    {
     "data": {
      "text/html": [
       "<pre style=\"white-space:pre;overflow-x:auto;line-height:normal;font-family:Menlo,'DejaVu Sans Mono',consolas,'Courier New',monospace\">(1, 1, 3, 3, 1, 3)\n",
       "</pre>\n"
      ],
      "text/plain": [
       "(1, 1, 3, 3, 1, 3)\n"
      ]
     },
     "metadata": {},
     "output_type": "display_data"
    },
    {
     "data": {
      "text/html": [
       "<pre style=\"white-space:pre;overflow-x:auto;line-height:normal;font-family:Menlo,'DejaVu Sans Mono',consolas,'Courier New',monospace\">(2, 1, 0, 0, 1, 0)\n",
       "</pre>\n"
      ],
      "text/plain": [
       "(2, 1, 0, 0, 1, 0)\n"
      ]
     },
     "metadata": {},
     "output_type": "display_data"
    },
    {
     "data": {
      "text/html": [
       "<pre style=\"white-space:pre;overflow-x:auto;line-height:normal;font-family:Menlo,'DejaVu Sans Mono',consolas,'Courier New',monospace\">(2, 1, 0, 0, 1, 1)\n",
       "</pre>\n"
      ],
      "text/plain": [
       "(2, 1, 0, 0, 1, 1)\n"
      ]
     },
     "metadata": {},
     "output_type": "display_data"
    },
    {
     "data": {
      "text/html": [
       "<pre style=\"white-space:pre;overflow-x:auto;line-height:normal;font-family:Menlo,'DejaVu Sans Mono',consolas,'Courier New',monospace\">(2, 1, 0, 0, 1, 2)\n",
       "</pre>\n"
      ],
      "text/plain": [
       "(2, 1, 0, 0, 1, 2)\n"
      ]
     },
     "metadata": {},
     "output_type": "display_data"
    },
    {
     "data": {
      "text/html": [
       "<pre style=\"white-space:pre;overflow-x:auto;line-height:normal;font-family:Menlo,'DejaVu Sans Mono',consolas,'Courier New',monospace\">(2, 1, 0, 0, 1, 3)\n",
       "</pre>\n"
      ],
      "text/plain": [
       "(2, 1, 0, 0, 1, 3)\n"
      ]
     },
     "metadata": {},
     "output_type": "display_data"
    },
    {
     "data": {
      "text/html": [
       "<pre style=\"white-space:pre;overflow-x:auto;line-height:normal;font-family:Menlo,'DejaVu Sans Mono',consolas,'Courier New',monospace\">(2, 1, 0, 1, 1, 0)\n",
       "</pre>\n"
      ],
      "text/plain": [
       "(2, 1, 0, 1, 1, 0)\n"
      ]
     },
     "metadata": {},
     "output_type": "display_data"
    },
    {
     "data": {
      "text/html": [
       "<pre style=\"white-space:pre;overflow-x:auto;line-height:normal;font-family:Menlo,'DejaVu Sans Mono',consolas,'Courier New',monospace\">(2, 1, 0, 1, 1, 1)\n",
       "</pre>\n"
      ],
      "text/plain": [
       "(2, 1, 0, 1, 1, 1)\n"
      ]
     },
     "metadata": {},
     "output_type": "display_data"
    },
    {
     "data": {
      "text/html": [
       "<pre style=\"white-space:pre;overflow-x:auto;line-height:normal;font-family:Menlo,'DejaVu Sans Mono',consolas,'Courier New',monospace\">(2, 1, 0, 1, 1, 2)\n",
       "</pre>\n"
      ],
      "text/plain": [
       "(2, 1, 0, 1, 1, 2)\n"
      ]
     },
     "metadata": {},
     "output_type": "display_data"
    },
    {
     "data": {
      "text/html": [
       "<pre style=\"white-space:pre;overflow-x:auto;line-height:normal;font-family:Menlo,'DejaVu Sans Mono',consolas,'Courier New',monospace\">(2, 1, 0, 1, 1, 3)\n",
       "</pre>\n"
      ],
      "text/plain": [
       "(2, 1, 0, 1, 1, 3)\n"
      ]
     },
     "metadata": {},
     "output_type": "display_data"
    },
    {
     "data": {
      "text/html": [
       "<pre style=\"white-space:pre;overflow-x:auto;line-height:normal;font-family:Menlo,'DejaVu Sans Mono',consolas,'Courier New',monospace\">(2, 1, 0, 2, 1, 0)\n",
       "</pre>\n"
      ],
      "text/plain": [
       "(2, 1, 0, 2, 1, 0)\n"
      ]
     },
     "metadata": {},
     "output_type": "display_data"
    },
    {
     "data": {
      "text/html": [
       "<pre style=\"white-space:pre;overflow-x:auto;line-height:normal;font-family:Menlo,'DejaVu Sans Mono',consolas,'Courier New',monospace\">(2, 1, 0, 2, 1, 1)\n",
       "</pre>\n"
      ],
      "text/plain": [
       "(2, 1, 0, 2, 1, 1)\n"
      ]
     },
     "metadata": {},
     "output_type": "display_data"
    },
    {
     "data": {
      "text/html": [
       "<pre style=\"white-space:pre;overflow-x:auto;line-height:normal;font-family:Menlo,'DejaVu Sans Mono',consolas,'Courier New',monospace\">(2, 1, 0, 2, 1, 2)\n",
       "</pre>\n"
      ],
      "text/plain": [
       "(2, 1, 0, 2, 1, 2)\n"
      ]
     },
     "metadata": {},
     "output_type": "display_data"
    },
    {
     "data": {
      "text/html": [
       "<pre style=\"white-space:pre;overflow-x:auto;line-height:normal;font-family:Menlo,'DejaVu Sans Mono',consolas,'Courier New',monospace\">(2, 1, 0, 2, 1, 3)\n",
       "</pre>\n"
      ],
      "text/plain": [
       "(2, 1, 0, 2, 1, 3)\n"
      ]
     },
     "metadata": {},
     "output_type": "display_data"
    },
    {
     "data": {
      "text/html": [
       "<pre style=\"white-space:pre;overflow-x:auto;line-height:normal;font-family:Menlo,'DejaVu Sans Mono',consolas,'Courier New',monospace\">(2, 1, 0, 3, 1, 0)\n",
       "</pre>\n"
      ],
      "text/plain": [
       "(2, 1, 0, 3, 1, 0)\n"
      ]
     },
     "metadata": {},
     "output_type": "display_data"
    },
    {
     "data": {
      "text/html": [
       "<pre style=\"white-space:pre;overflow-x:auto;line-height:normal;font-family:Menlo,'DejaVu Sans Mono',consolas,'Courier New',monospace\">(2, 1, 0, 3, 1, 1)\n",
       "</pre>\n"
      ],
      "text/plain": [
       "(2, 1, 0, 3, 1, 1)\n"
      ]
     },
     "metadata": {},
     "output_type": "display_data"
    },
    {
     "data": {
      "text/html": [
       "<pre style=\"white-space:pre;overflow-x:auto;line-height:normal;font-family:Menlo,'DejaVu Sans Mono',consolas,'Courier New',monospace\">(2, 1, 0, 3, 1, 2)\n",
       "</pre>\n"
      ],
      "text/plain": [
       "(2, 1, 0, 3, 1, 2)\n"
      ]
     },
     "metadata": {},
     "output_type": "display_data"
    },
    {
     "data": {
      "text/html": [
       "<pre style=\"white-space:pre;overflow-x:auto;line-height:normal;font-family:Menlo,'DejaVu Sans Mono',consolas,'Courier New',monospace\">(2, 1, 0, 3, 1, 3)\n",
       "</pre>\n"
      ],
      "text/plain": [
       "(2, 1, 0, 3, 1, 3)\n"
      ]
     },
     "metadata": {},
     "output_type": "display_data"
    },
    {
     "data": {
      "text/html": [
       "<pre style=\"white-space:pre;overflow-x:auto;line-height:normal;font-family:Menlo,'DejaVu Sans Mono',consolas,'Courier New',monospace\">(2, 1, 1, 0, 1, 0)\n",
       "</pre>\n"
      ],
      "text/plain": [
       "(2, 1, 1, 0, 1, 0)\n"
      ]
     },
     "metadata": {},
     "output_type": "display_data"
    },
    {
     "data": {
      "text/html": [
       "<pre style=\"white-space:pre;overflow-x:auto;line-height:normal;font-family:Menlo,'DejaVu Sans Mono',consolas,'Courier New',monospace\">(2, 1, 1, 0, 1, 1)\n",
       "</pre>\n"
      ],
      "text/plain": [
       "(2, 1, 1, 0, 1, 1)\n"
      ]
     },
     "metadata": {},
     "output_type": "display_data"
    },
    {
     "data": {
      "text/html": [
       "<pre style=\"white-space:pre;overflow-x:auto;line-height:normal;font-family:Menlo,'DejaVu Sans Mono',consolas,'Courier New',monospace\">(2, 1, 1, 0, 1, 2)\n",
       "</pre>\n"
      ],
      "text/plain": [
       "(2, 1, 1, 0, 1, 2)\n"
      ]
     },
     "metadata": {},
     "output_type": "display_data"
    },
    {
     "data": {
      "text/html": [
       "<pre style=\"white-space:pre;overflow-x:auto;line-height:normal;font-family:Menlo,'DejaVu Sans Mono',consolas,'Courier New',monospace\">(2, 1, 1, 0, 1, 3)\n",
       "</pre>\n"
      ],
      "text/plain": [
       "(2, 1, 1, 0, 1, 3)\n"
      ]
     },
     "metadata": {},
     "output_type": "display_data"
    },
    {
     "data": {
      "text/html": [
       "<pre style=\"white-space:pre;overflow-x:auto;line-height:normal;font-family:Menlo,'DejaVu Sans Mono',consolas,'Courier New',monospace\">(2, 1, 1, 1, 1, 0)\n",
       "</pre>\n"
      ],
      "text/plain": [
       "(2, 1, 1, 1, 1, 0)\n"
      ]
     },
     "metadata": {},
     "output_type": "display_data"
    },
    {
     "data": {
      "text/html": [
       "<pre style=\"white-space:pre;overflow-x:auto;line-height:normal;font-family:Menlo,'DejaVu Sans Mono',consolas,'Courier New',monospace\">(2, 1, 1, 1, 1, 1)\n",
       "</pre>\n"
      ],
      "text/plain": [
       "(2, 1, 1, 1, 1, 1)\n"
      ]
     },
     "metadata": {},
     "output_type": "display_data"
    },
    {
     "data": {
      "text/html": [
       "<pre style=\"white-space:pre;overflow-x:auto;line-height:normal;font-family:Menlo,'DejaVu Sans Mono',consolas,'Courier New',monospace\">(2, 1, 1, 1, 1, 2)\n",
       "</pre>\n"
      ],
      "text/plain": [
       "(2, 1, 1, 1, 1, 2)\n"
      ]
     },
     "metadata": {},
     "output_type": "display_data"
    },
    {
     "data": {
      "text/html": [
       "<pre style=\"white-space:pre;overflow-x:auto;line-height:normal;font-family:Menlo,'DejaVu Sans Mono',consolas,'Courier New',monospace\">(2, 1, 1, 1, 1, 3)\n",
       "</pre>\n"
      ],
      "text/plain": [
       "(2, 1, 1, 1, 1, 3)\n"
      ]
     },
     "metadata": {},
     "output_type": "display_data"
    },
    {
     "data": {
      "text/html": [
       "<pre style=\"white-space:pre;overflow-x:auto;line-height:normal;font-family:Menlo,'DejaVu Sans Mono',consolas,'Courier New',monospace\">(2, 1, 1, 2, 1, 0)\n",
       "</pre>\n"
      ],
      "text/plain": [
       "(2, 1, 1, 2, 1, 0)\n"
      ]
     },
     "metadata": {},
     "output_type": "display_data"
    },
    {
     "data": {
      "text/html": [
       "<pre style=\"white-space:pre;overflow-x:auto;line-height:normal;font-family:Menlo,'DejaVu Sans Mono',consolas,'Courier New',monospace\">(2, 1, 1, 2, 1, 1)\n",
       "</pre>\n"
      ],
      "text/plain": [
       "(2, 1, 1, 2, 1, 1)\n"
      ]
     },
     "metadata": {},
     "output_type": "display_data"
    },
    {
     "data": {
      "text/html": [
       "<pre style=\"white-space:pre;overflow-x:auto;line-height:normal;font-family:Menlo,'DejaVu Sans Mono',consolas,'Courier New',monospace\">(2, 1, 1, 2, 1, 2)\n",
       "</pre>\n"
      ],
      "text/plain": [
       "(2, 1, 1, 2, 1, 2)\n"
      ]
     },
     "metadata": {},
     "output_type": "display_data"
    },
    {
     "data": {
      "text/html": [
       "<pre style=\"white-space:pre;overflow-x:auto;line-height:normal;font-family:Menlo,'DejaVu Sans Mono',consolas,'Courier New',monospace\">(2, 1, 1, 2, 1, 3)\n",
       "</pre>\n"
      ],
      "text/plain": [
       "(2, 1, 1, 2, 1, 3)\n"
      ]
     },
     "metadata": {},
     "output_type": "display_data"
    },
    {
     "data": {
      "text/html": [
       "<pre style=\"white-space:pre;overflow-x:auto;line-height:normal;font-family:Menlo,'DejaVu Sans Mono',consolas,'Courier New',monospace\">(2, 1, 1, 3, 1, 0)\n",
       "</pre>\n"
      ],
      "text/plain": [
       "(2, 1, 1, 3, 1, 0)\n"
      ]
     },
     "metadata": {},
     "output_type": "display_data"
    },
    {
     "data": {
      "text/html": [
       "<pre style=\"white-space:pre;overflow-x:auto;line-height:normal;font-family:Menlo,'DejaVu Sans Mono',consolas,'Courier New',monospace\">(2, 1, 1, 3, 1, 1)\n",
       "</pre>\n"
      ],
      "text/plain": [
       "(2, 1, 1, 3, 1, 1)\n"
      ]
     },
     "metadata": {},
     "output_type": "display_data"
    },
    {
     "data": {
      "text/html": [
       "<pre style=\"white-space:pre;overflow-x:auto;line-height:normal;font-family:Menlo,'DejaVu Sans Mono',consolas,'Courier New',monospace\">(2, 1, 1, 3, 1, 2)\n",
       "</pre>\n"
      ],
      "text/plain": [
       "(2, 1, 1, 3, 1, 2)\n"
      ]
     },
     "metadata": {},
     "output_type": "display_data"
    },
    {
     "data": {
      "text/html": [
       "<pre style=\"white-space:pre;overflow-x:auto;line-height:normal;font-family:Menlo,'DejaVu Sans Mono',consolas,'Courier New',monospace\">(2, 1, 1, 3, 1, 3)\n",
       "</pre>\n"
      ],
      "text/plain": [
       "(2, 1, 1, 3, 1, 3)\n"
      ]
     },
     "metadata": {},
     "output_type": "display_data"
    },
    {
     "data": {
      "text/html": [
       "<pre style=\"white-space:pre;overflow-x:auto;line-height:normal;font-family:Menlo,'DejaVu Sans Mono',consolas,'Courier New',monospace\">(2, 1, 2, 0, 1, 0)\n",
       "</pre>\n"
      ],
      "text/plain": [
       "(2, 1, 2, 0, 1, 0)\n"
      ]
     },
     "metadata": {},
     "output_type": "display_data"
    },
    {
     "data": {
      "text/html": [
       "<pre style=\"white-space:pre;overflow-x:auto;line-height:normal;font-family:Menlo,'DejaVu Sans Mono',consolas,'Courier New',monospace\">(2, 1, 2, 0, 1, 1)\n",
       "</pre>\n"
      ],
      "text/plain": [
       "(2, 1, 2, 0, 1, 1)\n"
      ]
     },
     "metadata": {},
     "output_type": "display_data"
    },
    {
     "data": {
      "text/html": [
       "<pre style=\"white-space:pre;overflow-x:auto;line-height:normal;font-family:Menlo,'DejaVu Sans Mono',consolas,'Courier New',monospace\">(2, 1, 2, 0, 1, 2)\n",
       "</pre>\n"
      ],
      "text/plain": [
       "(2, 1, 2, 0, 1, 2)\n"
      ]
     },
     "metadata": {},
     "output_type": "display_data"
    },
    {
     "data": {
      "text/html": [
       "<pre style=\"white-space:pre;overflow-x:auto;line-height:normal;font-family:Menlo,'DejaVu Sans Mono',consolas,'Courier New',monospace\">(2, 1, 2, 0, 1, 3)\n",
       "</pre>\n"
      ],
      "text/plain": [
       "(2, 1, 2, 0, 1, 3)\n"
      ]
     },
     "metadata": {},
     "output_type": "display_data"
    },
    {
     "data": {
      "text/html": [
       "<pre style=\"white-space:pre;overflow-x:auto;line-height:normal;font-family:Menlo,'DejaVu Sans Mono',consolas,'Courier New',monospace\">(2, 1, 2, 1, 1, 0)\n",
       "</pre>\n"
      ],
      "text/plain": [
       "(2, 1, 2, 1, 1, 0)\n"
      ]
     },
     "metadata": {},
     "output_type": "display_data"
    },
    {
     "data": {
      "text/html": [
       "<pre style=\"white-space:pre;overflow-x:auto;line-height:normal;font-family:Menlo,'DejaVu Sans Mono',consolas,'Courier New',monospace\">(2, 1, 2, 1, 1, 1)\n",
       "</pre>\n"
      ],
      "text/plain": [
       "(2, 1, 2, 1, 1, 1)\n"
      ]
     },
     "metadata": {},
     "output_type": "display_data"
    },
    {
     "data": {
      "text/html": [
       "<pre style=\"white-space:pre;overflow-x:auto;line-height:normal;font-family:Menlo,'DejaVu Sans Mono',consolas,'Courier New',monospace\">(2, 1, 2, 1, 1, 2)\n",
       "</pre>\n"
      ],
      "text/plain": [
       "(2, 1, 2, 1, 1, 2)\n"
      ]
     },
     "metadata": {},
     "output_type": "display_data"
    },
    {
     "data": {
      "text/html": [
       "<pre style=\"white-space:pre;overflow-x:auto;line-height:normal;font-family:Menlo,'DejaVu Sans Mono',consolas,'Courier New',monospace\">(2, 1, 2, 1, 1, 3)\n",
       "</pre>\n"
      ],
      "text/plain": [
       "(2, 1, 2, 1, 1, 3)\n"
      ]
     },
     "metadata": {},
     "output_type": "display_data"
    },
    {
     "data": {
      "text/html": [
       "<pre style=\"white-space:pre;overflow-x:auto;line-height:normal;font-family:Menlo,'DejaVu Sans Mono',consolas,'Courier New',monospace\">(2, 1, 2, 2, 1, 0)\n",
       "</pre>\n"
      ],
      "text/plain": [
       "(2, 1, 2, 2, 1, 0)\n"
      ]
     },
     "metadata": {},
     "output_type": "display_data"
    },
    {
     "data": {
      "text/html": [
       "<pre style=\"white-space:pre;overflow-x:auto;line-height:normal;font-family:Menlo,'DejaVu Sans Mono',consolas,'Courier New',monospace\">(2, 1, 2, 2, 1, 1)\n",
       "</pre>\n"
      ],
      "text/plain": [
       "(2, 1, 2, 2, 1, 1)\n"
      ]
     },
     "metadata": {},
     "output_type": "display_data"
    },
    {
     "data": {
      "text/html": [
       "<pre style=\"white-space:pre;overflow-x:auto;line-height:normal;font-family:Menlo,'DejaVu Sans Mono',consolas,'Courier New',monospace\">(2, 1, 2, 2, 1, 2)\n",
       "</pre>\n"
      ],
      "text/plain": [
       "(2, 1, 2, 2, 1, 2)\n"
      ]
     },
     "metadata": {},
     "output_type": "display_data"
    },
    {
     "data": {
      "text/html": [
       "<pre style=\"white-space:pre;overflow-x:auto;line-height:normal;font-family:Menlo,'DejaVu Sans Mono',consolas,'Courier New',monospace\">(2, 1, 2, 2, 1, 3)\n",
       "</pre>\n"
      ],
      "text/plain": [
       "(2, 1, 2, 2, 1, 3)\n"
      ]
     },
     "metadata": {},
     "output_type": "display_data"
    },
    {
     "data": {
      "text/html": [
       "<pre style=\"white-space:pre;overflow-x:auto;line-height:normal;font-family:Menlo,'DejaVu Sans Mono',consolas,'Courier New',monospace\">(2, 1, 2, 3, 1, 0)\n",
       "</pre>\n"
      ],
      "text/plain": [
       "(2, 1, 2, 3, 1, 0)\n"
      ]
     },
     "metadata": {},
     "output_type": "display_data"
    },
    {
     "data": {
      "text/html": [
       "<pre style=\"white-space:pre;overflow-x:auto;line-height:normal;font-family:Menlo,'DejaVu Sans Mono',consolas,'Courier New',monospace\">(2, 1, 2, 3, 1, 1)\n",
       "</pre>\n"
      ],
      "text/plain": [
       "(2, 1, 2, 3, 1, 1)\n"
      ]
     },
     "metadata": {},
     "output_type": "display_data"
    },
    {
     "data": {
      "text/html": [
       "<pre style=\"white-space:pre;overflow-x:auto;line-height:normal;font-family:Menlo,'DejaVu Sans Mono',consolas,'Courier New',monospace\">(2, 1, 2, 3, 1, 2)\n",
       "</pre>\n"
      ],
      "text/plain": [
       "(2, 1, 2, 3, 1, 2)\n"
      ]
     },
     "metadata": {},
     "output_type": "display_data"
    },
    {
     "data": {
      "text/html": [
       "<pre style=\"white-space:pre;overflow-x:auto;line-height:normal;font-family:Menlo,'DejaVu Sans Mono',consolas,'Courier New',monospace\">(2, 1, 2, 3, 1, 3)\n",
       "</pre>\n"
      ],
      "text/plain": [
       "(2, 1, 2, 3, 1, 3)\n"
      ]
     },
     "metadata": {},
     "output_type": "display_data"
    },
    {
     "data": {
      "text/html": [
       "<pre style=\"white-space:pre;overflow-x:auto;line-height:normal;font-family:Menlo,'DejaVu Sans Mono',consolas,'Courier New',monospace\">(2, 1, 3, 0, 1, 0)\n",
       "</pre>\n"
      ],
      "text/plain": [
       "(2, 1, 3, 0, 1, 0)\n"
      ]
     },
     "metadata": {},
     "output_type": "display_data"
    },
    {
     "data": {
      "text/html": [
       "<pre style=\"white-space:pre;overflow-x:auto;line-height:normal;font-family:Menlo,'DejaVu Sans Mono',consolas,'Courier New',monospace\">(2, 1, 3, 0, 1, 1)\n",
       "</pre>\n"
      ],
      "text/plain": [
       "(2, 1, 3, 0, 1, 1)\n"
      ]
     },
     "metadata": {},
     "output_type": "display_data"
    },
    {
     "data": {
      "text/html": [
       "<pre style=\"white-space:pre;overflow-x:auto;line-height:normal;font-family:Menlo,'DejaVu Sans Mono',consolas,'Courier New',monospace\">(2, 1, 3, 0, 1, 2)\n",
       "</pre>\n"
      ],
      "text/plain": [
       "(2, 1, 3, 0, 1, 2)\n"
      ]
     },
     "metadata": {},
     "output_type": "display_data"
    },
    {
     "data": {
      "text/html": [
       "<pre style=\"white-space:pre;overflow-x:auto;line-height:normal;font-family:Menlo,'DejaVu Sans Mono',consolas,'Courier New',monospace\">(2, 1, 3, 0, 1, 3)\n",
       "</pre>\n"
      ],
      "text/plain": [
       "(2, 1, 3, 0, 1, 3)\n"
      ]
     },
     "metadata": {},
     "output_type": "display_data"
    },
    {
     "data": {
      "text/html": [
       "<pre style=\"white-space:pre;overflow-x:auto;line-height:normal;font-family:Menlo,'DejaVu Sans Mono',consolas,'Courier New',monospace\">(2, 1, 3, 1, 1, 0)\n",
       "</pre>\n"
      ],
      "text/plain": [
       "(2, 1, 3, 1, 1, 0)\n"
      ]
     },
     "metadata": {},
     "output_type": "display_data"
    },
    {
     "data": {
      "text/html": [
       "<pre style=\"white-space:pre;overflow-x:auto;line-height:normal;font-family:Menlo,'DejaVu Sans Mono',consolas,'Courier New',monospace\">(2, 1, 3, 1, 1, 1)\n",
       "</pre>\n"
      ],
      "text/plain": [
       "(2, 1, 3, 1, 1, 1)\n"
      ]
     },
     "metadata": {},
     "output_type": "display_data"
    },
    {
     "data": {
      "text/html": [
       "<pre style=\"white-space:pre;overflow-x:auto;line-height:normal;font-family:Menlo,'DejaVu Sans Mono',consolas,'Courier New',monospace\">(2, 1, 3, 1, 1, 2)\n",
       "</pre>\n"
      ],
      "text/plain": [
       "(2, 1, 3, 1, 1, 2)\n"
      ]
     },
     "metadata": {},
     "output_type": "display_data"
    },
    {
     "data": {
      "text/html": [
       "<pre style=\"white-space:pre;overflow-x:auto;line-height:normal;font-family:Menlo,'DejaVu Sans Mono',consolas,'Courier New',monospace\">(2, 1, 3, 1, 1, 3)\n",
       "</pre>\n"
      ],
      "text/plain": [
       "(2, 1, 3, 1, 1, 3)\n"
      ]
     },
     "metadata": {},
     "output_type": "display_data"
    },
    {
     "data": {
      "text/html": [
       "<pre style=\"white-space:pre;overflow-x:auto;line-height:normal;font-family:Menlo,'DejaVu Sans Mono',consolas,'Courier New',monospace\">(2, 1, 3, 2, 1, 0)\n",
       "</pre>\n"
      ],
      "text/plain": [
       "(2, 1, 3, 2, 1, 0)\n"
      ]
     },
     "metadata": {},
     "output_type": "display_data"
    },
    {
     "data": {
      "text/html": [
       "<pre style=\"white-space:pre;overflow-x:auto;line-height:normal;font-family:Menlo,'DejaVu Sans Mono',consolas,'Courier New',monospace\">(2, 1, 3, 2, 1, 1)\n",
       "</pre>\n"
      ],
      "text/plain": [
       "(2, 1, 3, 2, 1, 1)\n"
      ]
     },
     "metadata": {},
     "output_type": "display_data"
    },
    {
     "data": {
      "text/html": [
       "<pre style=\"white-space:pre;overflow-x:auto;line-height:normal;font-family:Menlo,'DejaVu Sans Mono',consolas,'Courier New',monospace\">(2, 1, 3, 2, 1, 2)\n",
       "</pre>\n"
      ],
      "text/plain": [
       "(2, 1, 3, 2, 1, 2)\n"
      ]
     },
     "metadata": {},
     "output_type": "display_data"
    },
    {
     "data": {
      "text/html": [
       "<pre style=\"white-space:pre;overflow-x:auto;line-height:normal;font-family:Menlo,'DejaVu Sans Mono',consolas,'Courier New',monospace\">(2, 1, 3, 2, 1, 3)\n",
       "</pre>\n"
      ],
      "text/plain": [
       "(2, 1, 3, 2, 1, 3)\n"
      ]
     },
     "metadata": {},
     "output_type": "display_data"
    },
    {
     "data": {
      "text/html": [
       "<pre style=\"white-space:pre;overflow-x:auto;line-height:normal;font-family:Menlo,'DejaVu Sans Mono',consolas,'Courier New',monospace\">(2, 1, 3, 3, 1, 0)\n",
       "</pre>\n"
      ],
      "text/plain": [
       "(2, 1, 3, 3, 1, 0)\n"
      ]
     },
     "metadata": {},
     "output_type": "display_data"
    },
    {
     "data": {
      "text/html": [
       "<pre style=\"white-space:pre;overflow-x:auto;line-height:normal;font-family:Menlo,'DejaVu Sans Mono',consolas,'Courier New',monospace\">(2, 1, 3, 3, 1, 1)\n",
       "</pre>\n"
      ],
      "text/plain": [
       "(2, 1, 3, 3, 1, 1)\n"
      ]
     },
     "metadata": {},
     "output_type": "display_data"
    },
    {
     "data": {
      "text/html": [
       "<pre style=\"white-space:pre;overflow-x:auto;line-height:normal;font-family:Menlo,'DejaVu Sans Mono',consolas,'Courier New',monospace\">(2, 1, 3, 3, 1, 2)\n",
       "</pre>\n"
      ],
      "text/plain": [
       "(2, 1, 3, 3, 1, 2)\n"
      ]
     },
     "metadata": {},
     "output_type": "display_data"
    },
    {
     "data": {
      "text/html": [
       "<pre style=\"white-space:pre;overflow-x:auto;line-height:normal;font-family:Menlo,'DejaVu Sans Mono',consolas,'Courier New',monospace\">(2, 1, 3, 3, 1, 3)\n",
       "</pre>\n"
      ],
      "text/plain": [
       "(2, 1, 3, 3, 1, 3)\n"
      ]
     },
     "metadata": {},
     "output_type": "display_data"
    },
    {
     "data": {
      "text/html": [
       "<pre style=\"white-space:pre;overflow-x:auto;line-height:normal;font-family:Menlo,'DejaVu Sans Mono',consolas,'Courier New',monospace\">(3, 1, 0, 0, 1, 0)\n",
       "</pre>\n"
      ],
      "text/plain": [
       "(3, 1, 0, 0, 1, 0)\n"
      ]
     },
     "metadata": {},
     "output_type": "display_data"
    },
    {
     "data": {
      "text/html": [
       "<pre style=\"white-space:pre;overflow-x:auto;line-height:normal;font-family:Menlo,'DejaVu Sans Mono',consolas,'Courier New',monospace\">(3, 1, 0, 0, 1, 1)\n",
       "</pre>\n"
      ],
      "text/plain": [
       "(3, 1, 0, 0, 1, 1)\n"
      ]
     },
     "metadata": {},
     "output_type": "display_data"
    },
    {
     "data": {
      "text/html": [
       "<pre style=\"white-space:pre;overflow-x:auto;line-height:normal;font-family:Menlo,'DejaVu Sans Mono',consolas,'Courier New',monospace\">(3, 1, 0, 0, 1, 2)\n",
       "</pre>\n"
      ],
      "text/plain": [
       "(3, 1, 0, 0, 1, 2)\n"
      ]
     },
     "metadata": {},
     "output_type": "display_data"
    },
    {
     "data": {
      "text/html": [
       "<pre style=\"white-space:pre;overflow-x:auto;line-height:normal;font-family:Menlo,'DejaVu Sans Mono',consolas,'Courier New',monospace\">(3, 1, 0, 0, 1, 3)\n",
       "</pre>\n"
      ],
      "text/plain": [
       "(3, 1, 0, 0, 1, 3)\n"
      ]
     },
     "metadata": {},
     "output_type": "display_data"
    },
    {
     "data": {
      "text/html": [
       "<pre style=\"white-space:pre;overflow-x:auto;line-height:normal;font-family:Menlo,'DejaVu Sans Mono',consolas,'Courier New',monospace\">(3, 1, 0, 1, 1, 0)\n",
       "</pre>\n"
      ],
      "text/plain": [
       "(3, 1, 0, 1, 1, 0)\n"
      ]
     },
     "metadata": {},
     "output_type": "display_data"
    },
    {
     "data": {
      "text/html": [
       "<pre style=\"white-space:pre;overflow-x:auto;line-height:normal;font-family:Menlo,'DejaVu Sans Mono',consolas,'Courier New',monospace\">(3, 1, 0, 1, 1, 1)\n",
       "</pre>\n"
      ],
      "text/plain": [
       "(3, 1, 0, 1, 1, 1)\n"
      ]
     },
     "metadata": {},
     "output_type": "display_data"
    },
    {
     "data": {
      "text/html": [
       "<pre style=\"white-space:pre;overflow-x:auto;line-height:normal;font-family:Menlo,'DejaVu Sans Mono',consolas,'Courier New',monospace\">(3, 1, 0, 1, 1, 2)\n",
       "</pre>\n"
      ],
      "text/plain": [
       "(3, 1, 0, 1, 1, 2)\n"
      ]
     },
     "metadata": {},
     "output_type": "display_data"
    },
    {
     "data": {
      "text/html": [
       "<pre style=\"white-space:pre;overflow-x:auto;line-height:normal;font-family:Menlo,'DejaVu Sans Mono',consolas,'Courier New',monospace\">(3, 1, 0, 1, 1, 3)\n",
       "</pre>\n"
      ],
      "text/plain": [
       "(3, 1, 0, 1, 1, 3)\n"
      ]
     },
     "metadata": {},
     "output_type": "display_data"
    },
    {
     "data": {
      "text/html": [
       "<pre style=\"white-space:pre;overflow-x:auto;line-height:normal;font-family:Menlo,'DejaVu Sans Mono',consolas,'Courier New',monospace\">(3, 1, 0, 2, 1, 0)\n",
       "</pre>\n"
      ],
      "text/plain": [
       "(3, 1, 0, 2, 1, 0)\n"
      ]
     },
     "metadata": {},
     "output_type": "display_data"
    },
    {
     "data": {
      "text/html": [
       "<pre style=\"white-space:pre;overflow-x:auto;line-height:normal;font-family:Menlo,'DejaVu Sans Mono',consolas,'Courier New',monospace\">(3, 1, 0, 2, 1, 1)\n",
       "</pre>\n"
      ],
      "text/plain": [
       "(3, 1, 0, 2, 1, 1)\n"
      ]
     },
     "metadata": {},
     "output_type": "display_data"
    },
    {
     "data": {
      "text/html": [
       "<pre style=\"white-space:pre;overflow-x:auto;line-height:normal;font-family:Menlo,'DejaVu Sans Mono',consolas,'Courier New',monospace\">(3, 1, 0, 2, 1, 2)\n",
       "</pre>\n"
      ],
      "text/plain": [
       "(3, 1, 0, 2, 1, 2)\n"
      ]
     },
     "metadata": {},
     "output_type": "display_data"
    },
    {
     "data": {
      "text/html": [
       "<pre style=\"white-space:pre;overflow-x:auto;line-height:normal;font-family:Menlo,'DejaVu Sans Mono',consolas,'Courier New',monospace\">(3, 1, 0, 2, 1, 3)\n",
       "</pre>\n"
      ],
      "text/plain": [
       "(3, 1, 0, 2, 1, 3)\n"
      ]
     },
     "metadata": {},
     "output_type": "display_data"
    },
    {
     "data": {
      "text/html": [
       "<pre style=\"white-space:pre;overflow-x:auto;line-height:normal;font-family:Menlo,'DejaVu Sans Mono',consolas,'Courier New',monospace\">(3, 1, 0, 3, 1, 0)\n",
       "</pre>\n"
      ],
      "text/plain": [
       "(3, 1, 0, 3, 1, 0)\n"
      ]
     },
     "metadata": {},
     "output_type": "display_data"
    },
    {
     "data": {
      "text/html": [
       "<pre style=\"white-space:pre;overflow-x:auto;line-height:normal;font-family:Menlo,'DejaVu Sans Mono',consolas,'Courier New',monospace\">(3, 1, 0, 3, 1, 1)\n",
       "</pre>\n"
      ],
      "text/plain": [
       "(3, 1, 0, 3, 1, 1)\n"
      ]
     },
     "metadata": {},
     "output_type": "display_data"
    },
    {
     "data": {
      "text/html": [
       "<pre style=\"white-space:pre;overflow-x:auto;line-height:normal;font-family:Menlo,'DejaVu Sans Mono',consolas,'Courier New',monospace\">(3, 1, 0, 3, 1, 2)\n",
       "</pre>\n"
      ],
      "text/plain": [
       "(3, 1, 0, 3, 1, 2)\n"
      ]
     },
     "metadata": {},
     "output_type": "display_data"
    },
    {
     "data": {
      "text/html": [
       "<pre style=\"white-space:pre;overflow-x:auto;line-height:normal;font-family:Menlo,'DejaVu Sans Mono',consolas,'Courier New',monospace\">(3, 1, 0, 3, 1, 3)\n",
       "</pre>\n"
      ],
      "text/plain": [
       "(3, 1, 0, 3, 1, 3)\n"
      ]
     },
     "metadata": {},
     "output_type": "display_data"
    },
    {
     "data": {
      "text/html": [
       "<pre style=\"white-space:pre;overflow-x:auto;line-height:normal;font-family:Menlo,'DejaVu Sans Mono',consolas,'Courier New',monospace\">(3, 1, 1, 0, 1, 0)\n",
       "</pre>\n"
      ],
      "text/plain": [
       "(3, 1, 1, 0, 1, 0)\n"
      ]
     },
     "metadata": {},
     "output_type": "display_data"
    },
    {
     "data": {
      "text/html": [
       "<pre style=\"white-space:pre;overflow-x:auto;line-height:normal;font-family:Menlo,'DejaVu Sans Mono',consolas,'Courier New',monospace\">(3, 1, 1, 0, 1, 1)\n",
       "</pre>\n"
      ],
      "text/plain": [
       "(3, 1, 1, 0, 1, 1)\n"
      ]
     },
     "metadata": {},
     "output_type": "display_data"
    },
    {
     "data": {
      "text/html": [
       "<pre style=\"white-space:pre;overflow-x:auto;line-height:normal;font-family:Menlo,'DejaVu Sans Mono',consolas,'Courier New',monospace\">(3, 1, 1, 0, 1, 2)\n",
       "</pre>\n"
      ],
      "text/plain": [
       "(3, 1, 1, 0, 1, 2)\n"
      ]
     },
     "metadata": {},
     "output_type": "display_data"
    },
    {
     "data": {
      "text/html": [
       "<pre style=\"white-space:pre;overflow-x:auto;line-height:normal;font-family:Menlo,'DejaVu Sans Mono',consolas,'Courier New',monospace\">(3, 1, 1, 0, 1, 3)\n",
       "</pre>\n"
      ],
      "text/plain": [
       "(3, 1, 1, 0, 1, 3)\n"
      ]
     },
     "metadata": {},
     "output_type": "display_data"
    },
    {
     "data": {
      "text/html": [
       "<pre style=\"white-space:pre;overflow-x:auto;line-height:normal;font-family:Menlo,'DejaVu Sans Mono',consolas,'Courier New',monospace\">(3, 1, 1, 1, 1, 0)\n",
       "</pre>\n"
      ],
      "text/plain": [
       "(3, 1, 1, 1, 1, 0)\n"
      ]
     },
     "metadata": {},
     "output_type": "display_data"
    },
    {
     "data": {
      "text/html": [
       "<pre style=\"white-space:pre;overflow-x:auto;line-height:normal;font-family:Menlo,'DejaVu Sans Mono',consolas,'Courier New',monospace\">(3, 1, 1, 1, 1, 1)\n",
       "</pre>\n"
      ],
      "text/plain": [
       "(3, 1, 1, 1, 1, 1)\n"
      ]
     },
     "metadata": {},
     "output_type": "display_data"
    },
    {
     "data": {
      "text/html": [
       "<pre style=\"white-space:pre;overflow-x:auto;line-height:normal;font-family:Menlo,'DejaVu Sans Mono',consolas,'Courier New',monospace\">(3, 1, 1, 1, 1, 2)\n",
       "</pre>\n"
      ],
      "text/plain": [
       "(3, 1, 1, 1, 1, 2)\n"
      ]
     },
     "metadata": {},
     "output_type": "display_data"
    },
    {
     "data": {
      "text/html": [
       "<pre style=\"white-space:pre;overflow-x:auto;line-height:normal;font-family:Menlo,'DejaVu Sans Mono',consolas,'Courier New',monospace\">(3, 1, 1, 1, 1, 3)\n",
       "</pre>\n"
      ],
      "text/plain": [
       "(3, 1, 1, 1, 1, 3)\n"
      ]
     },
     "metadata": {},
     "output_type": "display_data"
    },
    {
     "data": {
      "text/html": [
       "<pre style=\"white-space:pre;overflow-x:auto;line-height:normal;font-family:Menlo,'DejaVu Sans Mono',consolas,'Courier New',monospace\">(3, 1, 1, 2, 1, 0)\n",
       "</pre>\n"
      ],
      "text/plain": [
       "(3, 1, 1, 2, 1, 0)\n"
      ]
     },
     "metadata": {},
     "output_type": "display_data"
    },
    {
     "data": {
      "text/html": [
       "<pre style=\"white-space:pre;overflow-x:auto;line-height:normal;font-family:Menlo,'DejaVu Sans Mono',consolas,'Courier New',monospace\">(3, 1, 1, 2, 1, 1)\n",
       "</pre>\n"
      ],
      "text/plain": [
       "(3, 1, 1, 2, 1, 1)\n"
      ]
     },
     "metadata": {},
     "output_type": "display_data"
    },
    {
     "data": {
      "text/html": [
       "<pre style=\"white-space:pre;overflow-x:auto;line-height:normal;font-family:Menlo,'DejaVu Sans Mono',consolas,'Courier New',monospace\">(3, 1, 1, 2, 1, 2)\n",
       "</pre>\n"
      ],
      "text/plain": [
       "(3, 1, 1, 2, 1, 2)\n"
      ]
     },
     "metadata": {},
     "output_type": "display_data"
    },
    {
     "data": {
      "text/html": [
       "<pre style=\"white-space:pre;overflow-x:auto;line-height:normal;font-family:Menlo,'DejaVu Sans Mono',consolas,'Courier New',monospace\">(3, 1, 1, 2, 1, 3)\n",
       "</pre>\n"
      ],
      "text/plain": [
       "(3, 1, 1, 2, 1, 3)\n"
      ]
     },
     "metadata": {},
     "output_type": "display_data"
    },
    {
     "data": {
      "text/html": [
       "<pre style=\"white-space:pre;overflow-x:auto;line-height:normal;font-family:Menlo,'DejaVu Sans Mono',consolas,'Courier New',monospace\">(3, 1, 1, 3, 1, 0)\n",
       "</pre>\n"
      ],
      "text/plain": [
       "(3, 1, 1, 3, 1, 0)\n"
      ]
     },
     "metadata": {},
     "output_type": "display_data"
    },
    {
     "data": {
      "text/html": [
       "<pre style=\"white-space:pre;overflow-x:auto;line-height:normal;font-family:Menlo,'DejaVu Sans Mono',consolas,'Courier New',monospace\">(3, 1, 1, 3, 1, 1)\n",
       "</pre>\n"
      ],
      "text/plain": [
       "(3, 1, 1, 3, 1, 1)\n"
      ]
     },
     "metadata": {},
     "output_type": "display_data"
    },
    {
     "data": {
      "text/html": [
       "<pre style=\"white-space:pre;overflow-x:auto;line-height:normal;font-family:Menlo,'DejaVu Sans Mono',consolas,'Courier New',monospace\">(3, 1, 1, 3, 1, 2)\n",
       "</pre>\n"
      ],
      "text/plain": [
       "(3, 1, 1, 3, 1, 2)\n"
      ]
     },
     "metadata": {},
     "output_type": "display_data"
    },
    {
     "data": {
      "text/html": [
       "<pre style=\"white-space:pre;overflow-x:auto;line-height:normal;font-family:Menlo,'DejaVu Sans Mono',consolas,'Courier New',monospace\">(3, 1, 1, 3, 1, 3)\n",
       "</pre>\n"
      ],
      "text/plain": [
       "(3, 1, 1, 3, 1, 3)\n"
      ]
     },
     "metadata": {},
     "output_type": "display_data"
    },
    {
     "data": {
      "text/html": [
       "<pre style=\"white-space:pre;overflow-x:auto;line-height:normal;font-family:Menlo,'DejaVu Sans Mono',consolas,'Courier New',monospace\">(3, 1, 2, 0, 1, 0)\n",
       "</pre>\n"
      ],
      "text/plain": [
       "(3, 1, 2, 0, 1, 0)\n"
      ]
     },
     "metadata": {},
     "output_type": "display_data"
    },
    {
     "data": {
      "text/html": [
       "<pre style=\"white-space:pre;overflow-x:auto;line-height:normal;font-family:Menlo,'DejaVu Sans Mono',consolas,'Courier New',monospace\">(3, 1, 2, 0, 1, 1)\n",
       "</pre>\n"
      ],
      "text/plain": [
       "(3, 1, 2, 0, 1, 1)\n"
      ]
     },
     "metadata": {},
     "output_type": "display_data"
    },
    {
     "data": {
      "text/html": [
       "<pre style=\"white-space:pre;overflow-x:auto;line-height:normal;font-family:Menlo,'DejaVu Sans Mono',consolas,'Courier New',monospace\">(3, 1, 2, 0, 1, 2)\n",
       "</pre>\n"
      ],
      "text/plain": [
       "(3, 1, 2, 0, 1, 2)\n"
      ]
     },
     "metadata": {},
     "output_type": "display_data"
    },
    {
     "data": {
      "text/html": [
       "<pre style=\"white-space:pre;overflow-x:auto;line-height:normal;font-family:Menlo,'DejaVu Sans Mono',consolas,'Courier New',monospace\">(3, 1, 2, 0, 1, 3)\n",
       "</pre>\n"
      ],
      "text/plain": [
       "(3, 1, 2, 0, 1, 3)\n"
      ]
     },
     "metadata": {},
     "output_type": "display_data"
    },
    {
     "data": {
      "text/html": [
       "<pre style=\"white-space:pre;overflow-x:auto;line-height:normal;font-family:Menlo,'DejaVu Sans Mono',consolas,'Courier New',monospace\">(3, 1, 2, 1, 1, 0)\n",
       "</pre>\n"
      ],
      "text/plain": [
       "(3, 1, 2, 1, 1, 0)\n"
      ]
     },
     "metadata": {},
     "output_type": "display_data"
    },
    {
     "data": {
      "text/html": [
       "<pre style=\"white-space:pre;overflow-x:auto;line-height:normal;font-family:Menlo,'DejaVu Sans Mono',consolas,'Courier New',monospace\">(3, 1, 2, 1, 1, 1)\n",
       "</pre>\n"
      ],
      "text/plain": [
       "(3, 1, 2, 1, 1, 1)\n"
      ]
     },
     "metadata": {},
     "output_type": "display_data"
    },
    {
     "data": {
      "text/html": [
       "<pre style=\"white-space:pre;overflow-x:auto;line-height:normal;font-family:Menlo,'DejaVu Sans Mono',consolas,'Courier New',monospace\">(3, 1, 2, 1, 1, 2)\n",
       "</pre>\n"
      ],
      "text/plain": [
       "(3, 1, 2, 1, 1, 2)\n"
      ]
     },
     "metadata": {},
     "output_type": "display_data"
    },
    {
     "data": {
      "text/html": [
       "<pre style=\"white-space:pre;overflow-x:auto;line-height:normal;font-family:Menlo,'DejaVu Sans Mono',consolas,'Courier New',monospace\">(3, 1, 2, 1, 1, 3)\n",
       "</pre>\n"
      ],
      "text/plain": [
       "(3, 1, 2, 1, 1, 3)\n"
      ]
     },
     "metadata": {},
     "output_type": "display_data"
    },
    {
     "data": {
      "text/html": [
       "<pre style=\"white-space:pre;overflow-x:auto;line-height:normal;font-family:Menlo,'DejaVu Sans Mono',consolas,'Courier New',monospace\">(3, 1, 2, 2, 1, 0)\n",
       "</pre>\n"
      ],
      "text/plain": [
       "(3, 1, 2, 2, 1, 0)\n"
      ]
     },
     "metadata": {},
     "output_type": "display_data"
    },
    {
     "data": {
      "text/html": [
       "<pre style=\"white-space:pre;overflow-x:auto;line-height:normal;font-family:Menlo,'DejaVu Sans Mono',consolas,'Courier New',monospace\">(3, 1, 2, 2, 1, 1)\n",
       "</pre>\n"
      ],
      "text/plain": [
       "(3, 1, 2, 2, 1, 1)\n"
      ]
     },
     "metadata": {},
     "output_type": "display_data"
    },
    {
     "data": {
      "text/html": [
       "<pre style=\"white-space:pre;overflow-x:auto;line-height:normal;font-family:Menlo,'DejaVu Sans Mono',consolas,'Courier New',monospace\">(3, 1, 2, 2, 1, 2)\n",
       "</pre>\n"
      ],
      "text/plain": [
       "(3, 1, 2, 2, 1, 2)\n"
      ]
     },
     "metadata": {},
     "output_type": "display_data"
    },
    {
     "data": {
      "text/html": [
       "<pre style=\"white-space:pre;overflow-x:auto;line-height:normal;font-family:Menlo,'DejaVu Sans Mono',consolas,'Courier New',monospace\">(3, 1, 2, 2, 1, 3)\n",
       "</pre>\n"
      ],
      "text/plain": [
       "(3, 1, 2, 2, 1, 3)\n"
      ]
     },
     "metadata": {},
     "output_type": "display_data"
    },
    {
     "data": {
      "text/html": [
       "<pre style=\"white-space:pre;overflow-x:auto;line-height:normal;font-family:Menlo,'DejaVu Sans Mono',consolas,'Courier New',monospace\">(3, 1, 2, 3, 1, 0)\n",
       "</pre>\n"
      ],
      "text/plain": [
       "(3, 1, 2, 3, 1, 0)\n"
      ]
     },
     "metadata": {},
     "output_type": "display_data"
    },
    {
     "data": {
      "text/html": [
       "<pre style=\"white-space:pre;overflow-x:auto;line-height:normal;font-family:Menlo,'DejaVu Sans Mono',consolas,'Courier New',monospace\">(3, 1, 2, 3, 1, 1)\n",
       "</pre>\n"
      ],
      "text/plain": [
       "(3, 1, 2, 3, 1, 1)\n"
      ]
     },
     "metadata": {},
     "output_type": "display_data"
    },
    {
     "data": {
      "text/html": [
       "<pre style=\"white-space:pre;overflow-x:auto;line-height:normal;font-family:Menlo,'DejaVu Sans Mono',consolas,'Courier New',monospace\">(3, 1, 2, 3, 1, 2)\n",
       "</pre>\n"
      ],
      "text/plain": [
       "(3, 1, 2, 3, 1, 2)\n"
      ]
     },
     "metadata": {},
     "output_type": "display_data"
    },
    {
     "data": {
      "text/html": [
       "<pre style=\"white-space:pre;overflow-x:auto;line-height:normal;font-family:Menlo,'DejaVu Sans Mono',consolas,'Courier New',monospace\">(3, 1, 2, 3, 1, 3)\n",
       "</pre>\n"
      ],
      "text/plain": [
       "(3, 1, 2, 3, 1, 3)\n"
      ]
     },
     "metadata": {},
     "output_type": "display_data"
    },
    {
     "data": {
      "text/html": [
       "<pre style=\"white-space:pre;overflow-x:auto;line-height:normal;font-family:Menlo,'DejaVu Sans Mono',consolas,'Courier New',monospace\">(3, 1, 3, 0, 1, 0)\n",
       "</pre>\n"
      ],
      "text/plain": [
       "(3, 1, 3, 0, 1, 0)\n"
      ]
     },
     "metadata": {},
     "output_type": "display_data"
    },
    {
     "data": {
      "text/html": [
       "<pre style=\"white-space:pre;overflow-x:auto;line-height:normal;font-family:Menlo,'DejaVu Sans Mono',consolas,'Courier New',monospace\">(3, 1, 3, 0, 1, 1)\n",
       "</pre>\n"
      ],
      "text/plain": [
       "(3, 1, 3, 0, 1, 1)\n"
      ]
     },
     "metadata": {},
     "output_type": "display_data"
    },
    {
     "data": {
      "text/html": [
       "<pre style=\"white-space:pre;overflow-x:auto;line-height:normal;font-family:Menlo,'DejaVu Sans Mono',consolas,'Courier New',monospace\">(3, 1, 3, 0, 1, 2)\n",
       "</pre>\n"
      ],
      "text/plain": [
       "(3, 1, 3, 0, 1, 2)\n"
      ]
     },
     "metadata": {},
     "output_type": "display_data"
    },
    {
     "data": {
      "text/html": [
       "<pre style=\"white-space:pre;overflow-x:auto;line-height:normal;font-family:Menlo,'DejaVu Sans Mono',consolas,'Courier New',monospace\">(3, 1, 3, 0, 1, 3)\n",
       "</pre>\n"
      ],
      "text/plain": [
       "(3, 1, 3, 0, 1, 3)\n"
      ]
     },
     "metadata": {},
     "output_type": "display_data"
    },
    {
     "data": {
      "text/html": [
       "<pre style=\"white-space:pre;overflow-x:auto;line-height:normal;font-family:Menlo,'DejaVu Sans Mono',consolas,'Courier New',monospace\">(3, 1, 3, 1, 1, 0)\n",
       "</pre>\n"
      ],
      "text/plain": [
       "(3, 1, 3, 1, 1, 0)\n"
      ]
     },
     "metadata": {},
     "output_type": "display_data"
    },
    {
     "data": {
      "text/html": [
       "<pre style=\"white-space:pre;overflow-x:auto;line-height:normal;font-family:Menlo,'DejaVu Sans Mono',consolas,'Courier New',monospace\">(3, 1, 3, 1, 1, 1)\n",
       "</pre>\n"
      ],
      "text/plain": [
       "(3, 1, 3, 1, 1, 1)\n"
      ]
     },
     "metadata": {},
     "output_type": "display_data"
    },
    {
     "data": {
      "text/html": [
       "<pre style=\"white-space:pre;overflow-x:auto;line-height:normal;font-family:Menlo,'DejaVu Sans Mono',consolas,'Courier New',monospace\">(3, 1, 3, 1, 1, 2)\n",
       "</pre>\n"
      ],
      "text/plain": [
       "(3, 1, 3, 1, 1, 2)\n"
      ]
     },
     "metadata": {},
     "output_type": "display_data"
    },
    {
     "data": {
      "text/html": [
       "<pre style=\"white-space:pre;overflow-x:auto;line-height:normal;font-family:Menlo,'DejaVu Sans Mono',consolas,'Courier New',monospace\">(3, 1, 3, 1, 1, 3)\n",
       "</pre>\n"
      ],
      "text/plain": [
       "(3, 1, 3, 1, 1, 3)\n"
      ]
     },
     "metadata": {},
     "output_type": "display_data"
    },
    {
     "data": {
      "text/html": [
       "<pre style=\"white-space:pre;overflow-x:auto;line-height:normal;font-family:Menlo,'DejaVu Sans Mono',consolas,'Courier New',monospace\">(3, 1, 3, 2, 1, 0)\n",
       "</pre>\n"
      ],
      "text/plain": [
       "(3, 1, 3, 2, 1, 0)\n"
      ]
     },
     "metadata": {},
     "output_type": "display_data"
    },
    {
     "data": {
      "text/html": [
       "<pre style=\"white-space:pre;overflow-x:auto;line-height:normal;font-family:Menlo,'DejaVu Sans Mono',consolas,'Courier New',monospace\">(3, 1, 3, 2, 1, 1)\n",
       "</pre>\n"
      ],
      "text/plain": [
       "(3, 1, 3, 2, 1, 1)\n"
      ]
     },
     "metadata": {},
     "output_type": "display_data"
    },
    {
     "data": {
      "text/html": [
       "<pre style=\"white-space:pre;overflow-x:auto;line-height:normal;font-family:Menlo,'DejaVu Sans Mono',consolas,'Courier New',monospace\">(3, 1, 3, 2, 1, 2)\n",
       "</pre>\n"
      ],
      "text/plain": [
       "(3, 1, 3, 2, 1, 2)\n"
      ]
     },
     "metadata": {},
     "output_type": "display_data"
    },
    {
     "data": {
      "text/html": [
       "<pre style=\"white-space:pre;overflow-x:auto;line-height:normal;font-family:Menlo,'DejaVu Sans Mono',consolas,'Courier New',monospace\">(3, 1, 3, 2, 1, 3)\n",
       "</pre>\n"
      ],
      "text/plain": [
       "(3, 1, 3, 2, 1, 3)\n"
      ]
     },
     "metadata": {},
     "output_type": "display_data"
    },
    {
     "data": {
      "text/html": [
       "<pre style=\"white-space:pre;overflow-x:auto;line-height:normal;font-family:Menlo,'DejaVu Sans Mono',consolas,'Courier New',monospace\">(3, 1, 3, 3, 1, 0)\n",
       "</pre>\n"
      ],
      "text/plain": [
       "(3, 1, 3, 3, 1, 0)\n"
      ]
     },
     "metadata": {},
     "output_type": "display_data"
    },
    {
     "data": {
      "text/html": [
       "<pre style=\"white-space:pre;overflow-x:auto;line-height:normal;font-family:Menlo,'DejaVu Sans Mono',consolas,'Courier New',monospace\">(3, 1, 3, 3, 1, 1)\n",
       "</pre>\n"
      ],
      "text/plain": [
       "(3, 1, 3, 3, 1, 1)\n"
      ]
     },
     "metadata": {},
     "output_type": "display_data"
    },
    {
     "data": {
      "text/html": [
       "<pre style=\"white-space:pre;overflow-x:auto;line-height:normal;font-family:Menlo,'DejaVu Sans Mono',consolas,'Courier New',monospace\">(3, 1, 3, 3, 1, 2)\n",
       "</pre>\n"
      ],
      "text/plain": [
       "(3, 1, 3, 3, 1, 2)\n"
      ]
     },
     "metadata": {},
     "output_type": "display_data"
    },
    {
     "data": {
      "text/html": [
       "<pre style=\"white-space:pre;overflow-x:auto;line-height:normal;font-family:Menlo,'DejaVu Sans Mono',consolas,'Courier New',monospace\">(3, 1, 3, 3, 1, 3)\n",
       "</pre>\n"
      ],
      "text/plain": [
       "(3, 1, 3, 3, 1, 3)\n"
      ]
     },
     "metadata": {},
     "output_type": "display_data"
    },
    {
     "data": {
      "text/html": [
       "<pre style=\"white-space:pre;overflow-x:auto;line-height:normal;font-family:Menlo,'DejaVu Sans Mono',consolas,'Courier New',monospace\"></pre>\n"
      ],
      "text/plain": []
     },
     "metadata": {},
     "output_type": "display_data"
    },
    {
     "data": {
      "text/html": [
       "<pre style=\"white-space:pre;overflow-x:auto;line-height:normal;font-family:Menlo,'DejaVu Sans Mono',consolas,'Courier New',monospace\">\n",
       "</pre>\n"
      ],
      "text/plain": [
       "\n"
      ]
     },
     "metadata": {},
     "output_type": "display_data"
    }
   ],
   "source": [
    "pl=[0,1,2,3]\n",
    "dl=[1]\n",
    "ql=[0,1,2,3]\n",
    "Pl=[0,1,2,3]\n",
    "Dl=[1]\n",
    "Ql=[0,1,2,3]\n",
    "loop_val = [pl, dl, ql, Pl, Dl, Ql]\n",
    "a=[]\n",
    "for i in track(product(*loop_val)):\n",
    "    print(i)\n",
    "    a.append(i)"
   ]
  },
  {
   "cell_type": "code",
   "execution_count": 8,
   "id": "e20aefb1",
   "metadata": {},
   "outputs": [
    {
     "data": {
      "text/plain": [
       "256"
      ]
     },
     "execution_count": 8,
     "metadata": {},
     "output_type": "execute_result"
    }
   ],
   "source": [
    "len(a)"
   ]
  },
  {
   "cell_type": "code",
   "execution_count": null,
   "id": "f65d6421",
   "metadata": {},
   "outputs": [],
   "source": []
  }
 ],
 "metadata": {
  "kernelspec": {
   "display_name": "Python 3 (ipykernel)",
   "language": "python",
   "name": "python3"
  },
  "language_info": {
   "codemirror_mode": {
    "name": "ipython",
    "version": 3
   },
   "file_extension": ".py",
   "mimetype": "text/x-python",
   "name": "python",
   "nbconvert_exporter": "python",
   "pygments_lexer": "ipython3",
   "version": "3.9.12"
  }
 },
 "nbformat": 4,
 "nbformat_minor": 5
}
